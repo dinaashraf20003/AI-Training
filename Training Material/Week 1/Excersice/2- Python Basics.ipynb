{
 "cells": [
  {
   "cell_type": "markdown",
   "metadata": {},
   "source": [
    "1.2.1 Hello World"
   ]
  },
  {
   "cell_type": "code",
   "execution_count": 3,
   "metadata": {},
   "outputs": [
    {
     "name": "stdout",
     "output_type": "stream",
     "text": [
      "hello world\n",
      "hello world\n",
      "hello world\n"
     ]
    }
   ],
   "source": [
    "#The first Python program generates \"hello world\".\n",
    "print ('hello world') # Generate \"hello world\".\n",
    "print('hello world');print ('hello world') # Generate \"hello world\". The output is the same when single and double quotation marks are carried in input.\n"
   ]
  },
  {
   "cell_type": "code",
   "execution_count": null,
   "metadata": {},
   "outputs": [],
   "source": []
  },
  {
   "cell_type": "markdown",
   "metadata": {},
   "source": [
    "1.2.2 Data Type: Number"
   ]
  },
  {
   "cell_type": "code",
   "execution_count": 2,
   "metadata": {},
   "outputs": [
    {
     "name": "stdout",
     "output_type": "stream",
     "text": [
      "1\n",
      "True\n",
      "2\n",
      "1\n",
      "9\n",
      "6.6\n"
     ]
    }
   ],
   "source": [
    "#You need to be familiar with the basic operations of numbers in Python. Note that Boolean operations in Python use the keyword and/or/not instead of the operator.\n",
    "print(True+False)# The output is 1. By default, True indicates 1, and False indicates 0.\n",
    "print(True or False)# If True is displayed, enter or or perform the OR operation.\n",
    "print(5//2)# The output is 2, and // is the rounding operator. \n",
    "print(5%2)# The output is 1, and % is the modulo operator.  \n",
    "print(3**2) # The output is 9, and ** indicates the power operation. \n",
    "print(5+1.6) # The output is 6.6. By default, the sum of numbers of different precisions is the number of the highest precision type.\n"
   ]
  },
  {
   "cell_type": "markdown",
   "metadata": {},
   "source": [
    "1.2.3 Data Type: Character String"
   ]
  },
  {
   "cell_type": "raw",
   "metadata": {},
   "source": [
    "Step 1\tBasic operations on character strings:"
   ]
  },
  {
   "cell_type": "code",
   "execution_count": 3,
   "metadata": {},
   "outputs": [
    {
     "name": "stdout",
     "output_type": "stream",
     "text": [
      "6\n",
      "p y n\n",
      "python 1 pythonpython\n"
     ]
    }
   ],
   "source": [
    "S = 'python' # Assign value python to variable S.\n",
    "# len(obj): Return the object length.\n",
    "print(len(S)) # Output: 6\n",
    "print(S[0], S[1], S[-1]) # The output is pyn. Elements are obtained by index.\n",
    "print (S+' 1', S*2) # The output is python1 pythonpython, which indicates mergence and duplication.\n"
   ]
  },
  {
   "cell_type": "raw",
   "metadata": {},
   "source": [
    "Step 2\tUnchangeability of character strings:"
   ]
  },
  {
   "cell_type": "code",
   "execution_count": 4,
   "metadata": {},
   "outputs": [
    {
     "name": "stdout",
     "output_type": "stream",
     "text": [
      "S:python, S1:Zython\n"
     ]
    }
   ],
   "source": [
    "S = 'python' # Assign value python to variable S.\n",
    "\n",
    "S1 = 'Z' +S[1:]# New character string Zython is generated and assigned to S1.\n",
    "print(\"S:%s, S1:%s\"%(S, S1))# Output: S:python, S1:Zython\n"
   ]
  },
  {
   "cell_type": "raw",
   "metadata": {},
   "source": [
    "Step 3\tCommon operations on character strings:"
   ]
  },
  {
   "cell_type": "code",
   "execution_count": 1,
   "metadata": {},
   "outputs": [
    {
     "name": "stdout",
     "output_type": "stream",
     "text": [
      "['pyt', 'on']\n",
      "PYthon\n",
      "PYTHON\n",
      "python\n",
      " life   is   short \n",
      "hello world 12\n",
      "5\n"
     ]
    }
   ],
   "source": [
    "S = \"python\" # Assign value python to variable S.\n",
    "# str.split(str=\"\", num=-1): The character string is split by separator. If the num parameter has a value, divide the character string into num+1 substrings. The value -1 indicates that all strings are split.\n",
    "print (S.split('h'))# The output is ['pyt','on']. The character string is split by h.\n",
    "# str.replace(old, new[, max]): A character string generated after the old character string is replaced with the new character string is returned. If the third parameter max is specified, the number of times that the old string is replaced with the new string cannot exceed the value of max.\n",
    "print (S.replace('py', 'PY'))# In the character string, py is replaced with PY.\n",
    "# str.upper(): Return the value after lowercase letters are converted to uppercase letters.\n",
    "print(S.upper())\t\t\t\t\t\t\t# PYTHON\n",
    "# str.lower(): Return the value after uppercase letters are converted to lowercase letters.\n",
    "print ('PYTHON'.lower())# The output is python because all uppercase letters are converted to lowercase letters.\n",
    "line= 'aa,bb,ccc,dd\\n' # \\n is a newline character.\n",
    "# str.join(sequence): sequence indicates a sequence to be joined. In the output, the new string generated after the elements in the specified character join the sequence is returned.\n",
    "print (' '.join([' life ',' is ',' short ']))# The output is life is short. The join function is used for concatenating character strings.\n",
    "hw12= '%s %s %d' % ('hello', 'world', 12) # Format the character string.\n",
    "print(hw12)# Output: hello world 12\n",
    "hw12 = 5\n",
    "print(hw12)"
   ]
  },
  {
   "cell_type": "markdown",
   "metadata": {},
   "source": [
    "1.2.4 Data Type: List"
   ]
  },
  {
   "cell_type": "code",
   "execution_count": 2,
   "metadata": {},
   "outputs": [
    {
     "name": "stdout",
     "output_type": "stream",
     "text": [
      "['cat', 'dog', 'monkey', 'fish']\n",
      "['cat', 'dog', 'monkey', 'fish', 1]\n",
      "['cat', 'dog', 'monkey', 1]\n",
      "['cat', 'fish', 'dog', 'monkey', 1]\n",
      "['cat', 'dog', 'monkey', 1]\n",
      "(0, 'cat')\n",
      "(1, 'dog')\n",
      "(2, 'monkey')\n",
      "(3, 1)\n"
     ]
    }
   ],
   "source": [
    "animals = ['cat', 'dog', 'monkey']\n",
    "# list.append(obj): Add a new object to the end of a list.\n",
    "animals.append ('fish') # Append an element.\n",
    "print(animals)# Output: ['cat', 'dog', 'monkey', ‘fish’]\n",
    "animals.append(1)\n",
    "print(animals)\n",
    "# list.remove(obj): Remove the first match for a value in the list.\n",
    "animals.remove ('fish') # Delete element fish.\n",
    "print(animals)# Output: ['cat', 'dog', 'monkey']\n",
    "# list.insert(index, obj): Insert a specified object to a specified position in the list. The index indicates the position.\n",
    "animals.insert (1, 'fish') # Insert element fish at subscript 1.\n",
    "print(animals)# Output: ['cat', ‘fish’, 'dog', 'monkey']\n",
    "# list.pop([index=-1]): Remove the element (the last element by default) corresponding to the subscript in the list. The index indicates the subscript.\n",
    "animals.pop(1)# Delete the element whose subscript is 1.\n",
    "print(animals)# Output: ['cat', 'dog', 'monkey']\n",
    "# Traverse and obtain the elements and indexes.\n",
    "# enumerate(sequence): Return an index sequence consisting of a data object that can be traversed and list the data and subscripts. This function is usually used in the for loop.\n",
    "for i in enumerate(animals): \n",
    "    print(i)# Index consisting of the element subscript and element\n"
   ]
  },
  {
   "cell_type": "code",
   "execution_count": 7,
   "metadata": {},
   "outputs": [
    {
     "name": "stdout",
     "output_type": "stream",
     "text": [
      "['catcat', 'dogdog', 'monkeymonkey']\n",
      "[12, 32, 45, 55]\n",
      "[55, 45, 32, 12]\n"
     ]
    }
   ],
   "source": [
    "# List derivation.\n",
    "squares = [x*2 for x in animals]# Generate a list of elements that comply with rules in batches.\n",
    "print(squares)\t\t\t\t\t#['catcat ', 'dogdog ', 'monkeymonkey ']\n",
    "list1 = [12,45,32,55]\n",
    "# list.sort(cmp=None, key=None, reverse=False): The cmp parameter is an optional parameter. If this parameter is specified, the method specified by this parameter is used for sorting. The key parameter is an element used for comparison, reverse indicates the sorting rule, and False indicates the ascending order.\n",
    "list1.sort()# Sort the list.\n",
    "print(list1)# Output: [12,32,45,55]\n",
    "# list.reverse(): Elements in the reverse list.\n",
    "list1.reverse()# Reverse the list.\n",
    "print(list1)# Output: [55,45,32,12]\n"
   ]
  },
  {
   "cell_type": "markdown",
   "metadata": {},
   "source": [
    "1.2.5 Data Type: Tuple\n",
    "\n",
    "Common operations on tuples:"
   ]
  },
  {
   "cell_type": "code",
   "execution_count": 4,
   "metadata": {},
   "outputs": [
    {
     "name": "stdout",
     "output_type": "stream",
     "text": [
      "(1, 2, 3, 4, 5)\n",
      "(12, 45, 32, 55, [2, 0, 3])\n"
     ]
    }
   ],
   "source": [
    "T=(1,2,3) # Create a tuple.\n",
    "\n",
    "print(T+(4,5)) # Combine tuples. The output is (1, 2, 3, 4, 5).\n",
    "tuple1 = (12,45,32,55,[1,0,3])# Create a tuple.\n",
    "\n",
    "tuple1[4][0] = 2 # Elements that can be changed in a tuple are changeable.\n",
    "print(tuple1)# (12,45,32,55,[2,0,3])\n"
   ]
  },
  {
   "cell_type": "markdown",
   "metadata": {},
   "source": [
    "1.2.6 Data Type: Dictionary\n",
    "\n",
    "Common operations on dictionaries:\n"
   ]
  },
  {
   "cell_type": "code",
   "execution_count": 6,
   "metadata": {},
   "outputs": [
    {
     "name": "stdout",
     "output_type": "stream",
     "text": [
      "{'food': 'Spam', 'quantity': '4', 'color': 'pink'}\n",
      "{'food': 'Spam', 'quantity': '4', 'color': 'red'}\n",
      "None\n",
      "The key value does not exist.\n",
      "dict_keys(['food', 'quantity', 'color'])\n",
      "dict_values(['Spam', '4', 'red'])\n",
      "dict_items([('food', 'Spam'), ('quantity', '4'), ('color', 'red')])\n",
      "{'food': 'Spam', 'quantity': '4', 'color': 'red'}\n"
     ]
    },
    {
     "ename": "NameError",
     "evalue": "name 'd' is not defined",
     "output_type": "error",
     "traceback": [
      "\u001b[1;31m---------------------------------------------------------------------------\u001b[0m",
      "\u001b[1;31mNameError\u001b[0m                                 Traceback (most recent call last)",
      "\u001b[1;32m~\\AppData\\Local\\Temp/ipykernel_2332/3142777530.py\u001b[0m in \u001b[0;36m<module>\u001b[1;34m\u001b[0m\n\u001b[0;32m     17\u001b[0m \u001b[0mprint\u001b[0m\u001b[1;33m(\u001b[0m\u001b[0md\u001b[0m\u001b[1;33m)\u001b[0m\u001b[1;33m\u001b[0m\u001b[1;33m\u001b[0m\u001b[0m\n\u001b[0;32m     18\u001b[0m \u001b[1;32mdel\u001b[0m\u001b[1;33m(\u001b[0m\u001b[0md\u001b[0m\u001b[1;33m)\u001b[0m\u001b[1;31m# Delete the dictionary.\u001b[0m\u001b[1;33m\u001b[0m\u001b[1;33m\u001b[0m\u001b[0m\n\u001b[1;32m---> 19\u001b[1;33m \u001b[0mprint\u001b[0m\u001b[1;33m(\u001b[0m\u001b[0md\u001b[0m\u001b[1;33m)\u001b[0m\u001b[1;31m# The program is abnormal, and a message is displayed, indicating that d is not defined.\u001b[0m\u001b[1;33m\u001b[0m\u001b[1;33m\u001b[0m\u001b[0m\n\u001b[0m",
      "\u001b[1;31mNameError\u001b[0m: name 'd' is not defined"
     ]
    }
   ],
   "source": [
    "# Three value assignment operations on dictionaries.\n",
    "x = {'food':'Spam','quantity':4,'color':'pink'}\n",
    "X =dict(food='Spam',quantity=4, color='pink')\n",
    "x = dict([(\"food\", \"Spam\"),(\"quantity\", \"4\"),(\"color\",\"pink\")])\n",
    "# dict.copy(): Copy data.\n",
    "d =x.copy()\n",
    "d['color'] = 'red'\n",
    "print(x)\t\t\t\t\t\t\t# {'food':'Spam','quantity':4,'color':'pink'} \n",
    "print(d)\t\t\t\t\t\t\t# {'food':'Spam','quantity':4,'color':'red'}\n",
    "# Element access.\n",
    "print(d.get('name')) # Output: None\n",
    "print(d.get('name','The key value does not exist.')) \t# Output: The key value does not exist.\n",
    "print(d.keys()) # Output: dict_keys(['food', 'quantity', 'color'])\n",
    "print(d.values())# Output: dict_values(['Spam', 4, 'red'])\n",
    "print(d.items())\t\t\t\t\t\n",
    "# Output: dict_items([('food', 'Spam'), ('quantity', 4), ('color', 'red')])\n",
    "print(d)\n",
    "del(d)# Delete the dictionary.\n",
    "print(d)# The program is abnormal, and a message is displayed, indicating that d is not defined.\n"
   ]
  },
  {
   "cell_type": "markdown",
   "metadata": {},
   "source": [
    "1.2.7 Data Type: Set"
   ]
  },
  {
   "cell_type": "code",
   "execution_count": 7,
   "metadata": {},
   "outputs": [
    {
     "name": "stdout",
     "output_type": "stream",
     "text": [
      "False\n",
      "{'Data', 'Prince', 'Techs'}\n",
      "3\n",
      "{'Prince', 'Techs'}\n",
      "[1, 3, 5]\n"
     ]
    }
   ],
   "source": [
    "sample_set = {'Prince', 'Techs'}\n",
    "print('Data' in sample_set) # The output is False. in is used to check whether an element exists in the set.\n",
    "# set.add(obj): Add an element to a set. If the element to be added already exists in the set, no operation is performed.\n",
    "sample_set.add('Data') # Add element Data to the set.\n",
    "print(sample_set)# Output: {'Prince', 'Techs', 'Data'}\n",
    "print(len(sample_set)) # Output: 3 \n",
    "# set.remove(obj): Remove a specified element from a set.\n",
    "sample_set.remove('Data') # Delete element Data. \n",
    "print(sample_set)\t\t\t\t\t# {'Prince', 'Techs'}\n",
    "list2 = [1,3,1,5,3]\n",
    "print(list(set(list2)))# The output is [1,3,5]. The uniqueness of the set elements is used to deduplicate the list.\n",
    "sample_set = frozenset(sample_set)# Unchangeable set.\n"
   ]
  },
  {
   "cell_type": "markdown",
   "metadata": {},
   "source": [
    "1.2.8 Deep Copy and Shallow Copy"
   ]
  },
  {
   "cell_type": "code",
   "execution_count": 8,
   "metadata": {},
   "outputs": [
    {
     "name": "stdout",
     "output_type": "stream",
     "text": [
      "Dict1:{'name': 'lee', 'age': 89, 'num': [1, 6, 8]}\n",
      "  Dict_copy:{'name': 'lee', 'age': 89, 'num': [1, 6, 8]}\n",
      "  Dict_dcopy:{'name': 'lee', 'age': 89, 'num': [1, 2, 8]}\n"
     ]
    }
   ],
   "source": [
    "import copy\n",
    "Dict1 = {'name':'lee', 'age':89, 'num':[1,2,8]}# Create a dictionary.\n",
    "Dict_copy = Dict1.copy()# Shallow copy.\n",
    "Dict_dcopy = copy.deepcopy(Dict1)# Deep copy.\n",
    "Dict1['num'][1] = 6# Change the value of the nested list in the raw data.\n",
    "print('Dict1:'+str(Dict1)+\"\\n\",' Dict_copy:'+ str(Dict_copy)+\"\\n\",' Dict_dcopy:'+ str(Dict_dcopy))\n"
   ]
  },
  {
   "cell_type": "markdown",
   "metadata": {},
   "source": [
    "1.2.9 if Statement"
   ]
  },
  {
   "cell_type": "code",
   "execution_count": 11,
   "metadata": {},
   "outputs": [
    {
     "ename": "SyntaxError",
     "evalue": "invalid syntax (Temp/ipykernel_11064/2944392335.py, line 12)",
     "output_type": "error",
     "traceback": [
      "\u001b[1;36m  File \u001b[1;32m\"C:\\Users\\Khale\\AppData\\Local\\Temp/ipykernel_11064/2944392335.py\"\u001b[1;36m, line \u001b[1;32m12\u001b[0m\n\u001b[1;33m    print(\"Medium\")/\u001b[0m\n\u001b[1;37m                    ^\u001b[0m\n\u001b[1;31mSyntaxError\u001b[0m\u001b[1;31m:\u001b[0m invalid syntax\n"
     ]
    }
   ],
   "source": [
    "# Determine the entered score.\n",
    "# input(): Receive input data.\n",
    "score = input(\"Please enter your score.\") # The input function receives input, which is a character string.\n",
    "# try:… except Exception:… is a Python statement used to capture exceptions. If an error occurs in the statement in the try statement, the except statement will be executed.\n",
    "try:\n",
    "    score = float(score)# Convert the score to a number.\n",
    "    if 100>=score>=90: \t\t\t\t\t\t\t\t# Check whether the entered value is greater than the score of a level.\n",
    "        print(\"Excellent\") # Generate the level when conditions are met.\n",
    "    elif 90 > score >= 80:\n",
    "        print(\"Good\")\n",
    "    elif 80>score>0:\n",
    "        print(\"Medium\")/\n",
    "    else:\n",
    "        print(\"Bad\")\n",
    "except Exception:\n",
    "\tprint(\"Enter a correct score.\")\n"
   ]
  },
  {
   "cell_type": "markdown",
   "metadata": {},
   "source": [
    "1.2.10 Loop Statement"
   ]
  },
  {
   "cell_type": "raw",
   "metadata": {},
   "source": [
    "Step 1\tfor loop:\n",
    "Use the for loop statement to generate a multiplication table.\n"
   ]
  },
  {
   "cell_type": "code",
   "execution_count": 12,
   "metadata": {},
   "outputs": [
    {
     "name": "stdout",
     "output_type": "stream",
     "text": [
      "1*1= 1 \n",
      "2*1= 2 2*2= 4 \n",
      "3*1= 3 3*2= 6 3*3= 9 \n",
      "4*1= 4 4*2= 8 4*3=12 4*4=16 \n",
      "5*1= 5 5*2=10 5*3=15 5*4=20 5*5=25 \n",
      "6*1= 6 6*2=12 6*3=18 6*4=24 6*5=30 6*6=36 \n",
      "7*1= 7 7*2=14 7*3=21 7*4=28 7*5=35 7*6=42 7*7=49 \n",
      "8*1= 8 8*2=16 8*3=24 8*4=32 8*5=40 8*6=48 8*7=56 8*8=64 \n",
      "9*1= 9 9*2=18 9*3=27 9*4=36 9*5=45 9*6=54 9*7=63 9*8=72 9*9=81 \n"
     ]
    }
   ],
   "source": [
    "for i in range(1,10):# Define the outer loop.\n",
    "    \n",
    "    for j in range(1,i+1):# Define the inner loop.\n",
    "\t# Format the output character string to align the generated result. The end attribute is set to /n by default.\n",
    "        print(\"%d*%d=%2d\"%(i,j,i*j), end=\" \")\n",
    "    print()\n"
   ]
  },
  {
   "cell_type": "raw",
   "metadata": {},
   "source": [
    "Step 2\twhile loop:\n",
    "When the condition is met, the statement block is executed cyclically. To end the loop, use break or continue.\n"
   ]
  },
  {
   "cell_type": "code",
   "execution_count": 13,
   "metadata": {},
   "outputs": [
    {
     "name": "stdout",
     "output_type": "stream",
     "text": [
      "1\n",
      "2\n",
      "Exit this loop.\n",
      "4\n",
      "Exit the current big loop.\n"
     ]
    }
   ],
   "source": [
    "# while loop\n",
    "i = 0# Create variable i.\n",
    "while i<9: \t\t\t\t\t\t\t\t\t\t# Set a condition for the loop.\n",
    "\ti+=1 # The value of i increases by 1 in each loop.\n",
    "\tif i == 3: \t\t\t\t\t\t\t\t\t\t# Check whether the conditions are met.\n",
    "\t\tprint(\"Exit this loop.\")\n",
    "\t\tcontinue# Execute continue to exit the current loop.\n",
    "\tif i == 5:\n",
    "\t\tprint(\"Exit the current big loop.\")\n",
    "\t\tbreak# Exit the current big loop.\n",
    "\tprint(i)\n"
   ]
  },
  {
   "cell_type": "markdown",
   "metadata": {},
   "source": [
    "1.2.11 Customizing a Function"
   ]
  },
  {
   "cell_type": "raw",
   "metadata": {},
   "source": [
    "Step 1\tDefine a function.\n",
    "Define a function to return a sequence. Each number in the sequence is the sum of the former two numbers (Fibonacci sequence)."
   ]
  },
  {
   "cell_type": "code",
   "execution_count": 14,
   "metadata": {},
   "outputs": [],
   "source": [
    "def fibs(num): # Position parameter.\n",
    "    result = [0,1]# Create a list to store the sequence value.\n",
    "    for i in range(2, num):# Cycle num-2 times.\n",
    "        a = result[i-1] + result[i-2]\n",
    "        result.append(a)# Append the value to the list.\n",
    "    return result# Return the list.\n"
   ]
  },
  {
   "cell_type": "code",
   "execution_count": 15,
   "metadata": {},
   "outputs": [
    {
     "data": {
      "text/plain": [
       "[0, 1, 1, 2, 3]"
      ]
     },
     "execution_count": 15,
     "metadata": {},
     "output_type": "execute_result"
    }
   ],
   "source": [
    "fibs(5)"
   ]
  },
  {
   "cell_type": "raw",
   "metadata": {},
   "source": [
    "Step 2\tGenerate parameters.\n",
    "The function can be customized to generate parameters transferred in different ways.\n"
   ]
  },
  {
   "cell_type": "code",
   "execution_count": 16,
   "metadata": {},
   "outputs": [
    {
     "name": "stdout",
     "output_type": "stream",
     "text": [
      "hello, world!\n",
      "Greetings, world!\n",
      "Greetings, universe!\n",
      "hello, Gumby!\n",
      "hello, Gumby!\n"
     ]
    }
   ],
   "source": [
    "def hello(greeting='hello',name='world'): # Default parameters.\n",
    "    print('%s, %s!' % (greeting, name))# Format the output.\t\n",
    "hello() # hello, world    Default parameter.\n",
    "hello ('Greetings') # The Greetings and world parameters are position parameters.\n",
    "hello ('Greetings', 'universe') # The Greetings and universe parameters are position parameters.\n",
    "hello (name= 'Gumby') # The hello and Gumby parameters are keyword parameters.\n",
    "hello (greeting = 'hello', name= 'Gumby')"
   ]
  },
  {
   "cell_type": "markdown",
   "metadata": {},
   "source": [
    "1.2.12 Object-oriented Programming"
   ]
  },
  {
   "cell_type": "raw",
   "metadata": {},
   "source": [
    "Step 1\tCreate and use classes.\n",
    "Create the Dog class.\n",
    "Each instance created based on the Dog class stores the name and age. We will give each dog the sit () and roll_over () abilities."
   ]
  },
  {
   "cell_type": "code",
   "execution_count": 17,
   "metadata": {},
   "outputs": [],
   "source": [
    "class Dog():\n",
    "    \"\"\"A simple attempt to simulate a dog\"\"\"\n",
    "    def __init__ (self,name,age):\n",
    "        \"\"\"Initialize the name and age attributes.\"\"\"\n",
    "        self.name = name\n",
    "        self.age = age\n",
    "    def sit(self):\n",
    "        \"\"\"Simulate a dog sitting when ordered.\"\"\"\n",
    "        print(self.name.title()+\" is now sitting\")\n",
    "    def roll_over(self):\n",
    "        \"\"\"Simulate a dog rolling over when ordered.\"\"\"\n",
    "        print(self.name.title()+\" rolled over!\")"
   ]
  },
  {
   "cell_type": "code",
   "execution_count": 18,
   "metadata": {},
   "outputs": [
    {
     "name": "stdout",
     "output_type": "stream",
     "text": [
      "Husky is now sitting\n",
      "Husky rolled over!\n"
     ]
    }
   ],
   "source": [
    "dog1 = Dog(\"Husky\",2)\n",
    "dog1.sit()\n",
    "dog1.roll_over()"
   ]
  },
  {
   "cell_type": "raw",
   "metadata": {},
   "source": [
    "Step 2\tAccess attributes."
   ]
  },
  {
   "cell_type": "code",
   "execution_count": 19,
   "metadata": {},
   "outputs": [
    {
     "name": "stdout",
     "output_type": "stream",
     "text": [
      "Name :  Zara , Salary:  2000\n",
      "Name :  Manni , Salary:  5000\n",
      "Total Employee 2\n"
     ]
    }
   ],
   "source": [
    "class Employee:\n",
    "   'Base class of all employees'\n",
    "   empCount = 0\n",
    "   def __init__(self, name, salary):\n",
    "      self.name = name\n",
    "      self.salary = salary\n",
    "      Employee.empCount += 1  \n",
    "   def displayCount(self):\n",
    "       print(\"Total Employee %d\" % Employee.empCount )\n",
    "   def displayEmployee(self):\n",
    "       print(\"Name : \", self.name,  \", Salary: \", self.salary)\n",
    "# Create the first object of the Employee class.\n",
    "emp1 = Employee(\"Zara\", 2000)\n",
    "# Create the second object of the Employee class.\n",
    "emp2 = Employee(\"Manni\", 5000)\n",
    "emp1.displayEmployee()\n",
    "emp2.displayEmployee()\n",
    "print(\"Total Employee %d\" % Employee.empCount)\n"
   ]
  },
  {
   "cell_type": "raw",
   "metadata": {},
   "source": [
    "Step 3\tInherit a class."
   ]
  },
  {
   "cell_type": "code",
   "execution_count": 20,
   "metadata": {},
   "outputs": [
    {
     "name": "stdout",
     "output_type": "stream",
     "text": [
      "Invoke a child class to construct a method.\n",
      "Invoke a child method.\n",
      "Invoke a parent class method.\n",
      "Parent attribute: 200\n"
     ]
    }
   ],
   "source": [
    "class Parent:        # Define the parent class.\n",
    "   parentAttr = 100\n",
    "   def __init__(self):\n",
    "       print(\"Invoke the parent class to construct a function.\")\n",
    "   def parentMethod(self):\n",
    "       print('Invoke a parent class method.')\n",
    "   def setAttr(self, attr):\n",
    "       Parent.parentAttr = attr\n",
    "   def getAttr(self):\n",
    "       print(\"Parent attribute:\", Parent.parentAttr)\n",
    "class Child(Parent): # Define a child class.\n",
    "   def __init__(self):\n",
    "       print(\"Invoke a child class to construct a method.\")\n",
    "   def childMethod(self):\n",
    "       print('Invoke a child method.')\n",
    "c = Child() # Instantiate a child class.\n",
    "c.childMethod() # Invoke the method of a child class.\n",
    "c.parentMethod() # Invoke the method of a parent class.\n",
    "c.setAttr(200) # Invoke the method of the parent class again to set the attribute value.\n",
    "c.getAttr() # Invoke the method of the parent class again to obtain the attribute value."
   ]
  },
  {
   "cell_type": "raw",
   "metadata": {},
   "source": [
    "Step 4\tClass attributes and methods."
   ]
  },
  {
   "cell_type": "code",
   "execution_count": 21,
   "metadata": {},
   "outputs": [
    {
     "name": "stdout",
     "output_type": "stream",
     "text": [
      "1\n",
      "2\n",
      "2\n"
     ]
    },
    {
     "ename": "AttributeError",
     "evalue": "'JustCounter' object has no attribute '__secretCount'",
     "output_type": "error",
     "traceback": [
      "\u001b[1;31m---------------------------------------------------------------------------\u001b[0m",
      "\u001b[1;31mAttributeError\u001b[0m                            Traceback (most recent call last)",
      "\u001b[1;32m~\\AppData\\Local\\Temp/ipykernel_11064/1635246882.py\u001b[0m in \u001b[0;36m<module>\u001b[1;34m\u001b[0m\n\u001b[0;32m     10\u001b[0m \u001b[0mcounter\u001b[0m\u001b[1;33m.\u001b[0m\u001b[0mcount\u001b[0m\u001b[1;33m(\u001b[0m\u001b[1;33m)\u001b[0m\u001b[1;33m\u001b[0m\u001b[1;33m\u001b[0m\u001b[0m\n\u001b[0;32m     11\u001b[0m \u001b[0mprint\u001b[0m\u001b[1;33m(\u001b[0m\u001b[0mcounter\u001b[0m\u001b[1;33m.\u001b[0m\u001b[0mpublicCount\u001b[0m\u001b[1;33m)\u001b[0m\u001b[1;33m\u001b[0m\u001b[1;33m\u001b[0m\u001b[0m\n\u001b[1;32m---> 12\u001b[1;33m \u001b[0mprint\u001b[0m\u001b[1;33m(\u001b[0m\u001b[0mcounter\u001b[0m\u001b[1;33m.\u001b[0m\u001b[0m__secretCount\u001b[0m\u001b[1;33m)\u001b[0m  \u001b[1;31m# An error is reported, indicating that the instance cannot access private variables.\u001b[0m\u001b[1;33m\u001b[0m\u001b[1;33m\u001b[0m\u001b[0m\n\u001b[0m",
      "\u001b[1;31mAttributeError\u001b[0m: 'JustCounter' object has no attribute '__secretCount'"
     ]
    }
   ],
   "source": [
    "class JustCounter:\n",
    "    __secretCount = 0 # Private variable.\n",
    "    publicCount = 0 # Public variable. \n",
    "    def count(self):\n",
    "        self.__secretCount += 1\n",
    "        self.publicCount += 1\n",
    "        print(self.__secretCount)\n",
    "counter = JustCounter()\n",
    "counter.count()\n",
    "counter.count()\n",
    "print(counter.publicCount)\n",
    "print(counter.__secretCount)  # An error is reported, indicating that the instance cannot access private variables.\n"
   ]
  },
  {
   "cell_type": "markdown",
   "metadata": {},
   "source": [
    "1.2.13 Standard Library Usage"
   ]
  },
  {
   "cell_type": "raw",
   "metadata": {},
   "source": [
    "Step 1\tsys\n",
    "sys.exit([n]): This method can be used to exit the current program. If the value of n is 0, the program exits normally; if the value of n is not 0, the program exits abnormally."
   ]
  },
  {
   "cell_type": "code",
   "execution_count": 22,
   "metadata": {},
   "outputs": [
    {
     "name": "stdout",
     "output_type": "stream",
     "text": [
      "0\n",
      "1\n",
      "2\n",
      "3\n",
      "4\n",
      "5\n"
     ]
    },
    {
     "ename": "SystemExit",
     "evalue": "0",
     "output_type": "error",
     "traceback": [
      "An exception has occurred, use %tb to see the full traceback.\n",
      "\u001b[1;31mSystemExit\u001b[0m\u001b[1;31m:\u001b[0m 0\n"
     ]
    },
    {
     "name": "stderr",
     "output_type": "stream",
     "text": [
      "C:\\ProgramData\\Anaconda3\\lib\\site-packages\\IPython\\core\\interactiveshell.py:3452: UserWarning: To exit: use 'exit', 'quit', or Ctrl-D.\n",
      "  warn(\"To exit: use 'exit', 'quit', or Ctrl-D.\", stacklevel=1)\n"
     ]
    }
   ],
   "source": [
    "import sys\n",
    "for i in range(100):\n",
    "    print(i)\n",
    "    if i ==5:\n",
    "        sys.exit(0)"
   ]
  },
  {
   "cell_type": "code",
   "execution_count": 23,
   "metadata": {},
   "outputs": [
    {
     "data": {
      "text/plain": [
       "['D:\\\\Study\\\\AI\\\\D-HUB\\\\Excersices',\n",
       " 'C:\\\\ProgramData\\\\Anaconda3\\\\python39.zip',\n",
       " 'C:\\\\ProgramData\\\\Anaconda3\\\\DLLs',\n",
       " 'C:\\\\ProgramData\\\\Anaconda3\\\\lib',\n",
       " 'C:\\\\ProgramData\\\\Anaconda3',\n",
       " '',\n",
       " 'C:\\\\Users\\\\Khale\\\\AppData\\\\Roaming\\\\Python\\\\Python39\\\\site-packages',\n",
       " 'C:\\\\ProgramData\\\\Anaconda3\\\\lib\\\\site-packages',\n",
       " 'C:\\\\ProgramData\\\\Anaconda3\\\\lib\\\\site-packages\\\\locket-0.2.1-py3.9.egg',\n",
       " 'C:\\\\ProgramData\\\\Anaconda3\\\\lib\\\\site-packages\\\\win32',\n",
       " 'C:\\\\ProgramData\\\\Anaconda3\\\\lib\\\\site-packages\\\\win32\\\\lib',\n",
       " 'C:\\\\ProgramData\\\\Anaconda3\\\\lib\\\\site-packages\\\\Pythonwin',\n",
       " 'C:\\\\ProgramData\\\\Anaconda3\\\\lib\\\\site-packages\\\\IPython\\\\extensions',\n",
       " 'C:\\\\Users\\\\Khale\\\\.ipython']"
      ]
     },
     "execution_count": 23,
     "metadata": {},
     "output_type": "execute_result"
    }
   ],
   "source": [
    "sys.path"
   ]
  },
  {
   "cell_type": "code",
   "execution_count": 24,
   "metadata": {},
   "outputs": [
    {
     "data": {
      "text/plain": [
       "'win32'"
      ]
     },
     "execution_count": 24,
     "metadata": {},
     "output_type": "execute_result"
    }
   ],
   "source": [
    "sys.platform"
   ]
  },
  {
   "cell_type": "raw",
   "metadata": {},
   "source": [
    "Step 2\tos"
   ]
  },
  {
   "cell_type": "code",
   "execution_count": 25,
   "metadata": {},
   "outputs": [
    {
     "name": "stdout",
     "output_type": "stream",
     "text": [
      "ID of the current process: 11064\n",
      " ID of the current parent process: 10880\n",
      " The current path is: D:\\Study\\AI\\D-HUB\\Excersices\n",
      "D:\\Study\\AI\\D-HUB\\Excersices\\.ipynb_checkpoints\\1- SVM Example-checkpoint.ipynb\n",
      "D:\\Study\\AI\\D-HUB\\Excersices\\.ipynb_checkpoints\\11- Introduction_To_Matplotlib-checkpoint.ipynb\n",
      "D:\\Study\\AI\\D-HUB\\Excersices\\.ipynb_checkpoints\\3- Python Basics-checkpoint.ipynb\n",
      "D:\\Study\\AI\\D-HUB\\Excersices\\.ipynb_checkpoints\\4- Numpy-checkpoint.ipynb\n",
      "D:\\Study\\AI\\D-HUB\\Excersices\\.ipynb_checkpoints\\8- Linear Regression Example-checkpoint.ipynb\n",
      "D:\\Study\\AI\\D-HUB\\Excersices\\.ipynb_checkpoints\\8.2- linear_regression-checkpoint.ipynb\n",
      "D:\\Study\\AI\\D-HUB\\Excersices\\.ipynb_checkpoints\\9- Boston House Price Forecast-checkpoint.ipynb\n",
      "D:\\Study\\AI\\D-HUB\\Excersices\\10- DNN and CNN using Tensorflow\\.ipynb_checkpoints\\1- The Hello World of Deep Learning with Neural Networks-checkpoint.ipynb\n",
      "D:\\Study\\AI\\D-HUB\\Excersices\\10- DNN and CNN using Tensorflow\\.ipynb_checkpoints\\2- Neural Network Single Layer-checkpoint.ipynb\n",
      "D:\\Study\\AI\\D-HUB\\Excersices\\10- DNN and CNN using Tensorflow\\.ipynb_checkpoints\\3- Beyond Hello World, A Computer Vision Example-checkpoint.ipynb\n",
      "D:\\Study\\AI\\D-HUB\\Excersices\\10- DNN and CNN using Tensorflow\\.ipynb_checkpoints\\4- Improving Computer Vision Accuracy using Convolutions-checkpoint.ipynb\n",
      "D:\\Study\\AI\\D-HUB\\Excersices\\10- DNN and CNN using Tensorflow\\.ipynb_checkpoints\\5- Licensed under the Apache License, Version 2.0 (the License);-checkpoint.ipynb\n",
      "D:\\Study\\AI\\D-HUB\\Excersices\\10- DNN and CNN using Tensorflow\\.ipynb_checkpoints\\6- Handling complex images-checkpoint.ipynb\n",
      "D:\\Study\\AI\\D-HUB\\Excersices\\10- DNN and CNN using Tensorflow\\.ipynb_checkpoints\\7- Digit Recognition with TensorFlow-checkpoint.ipynb\n",
      "D:\\Study\\AI\\D-HUB\\Excersices\\10- DNN and CNN using Tensorflow\\.ipynb_checkpoints\\8- Image Classification-checkpoint.ipynb\n",
      "D:\\Study\\AI\\D-HUB\\Excersices\\10- DNN and CNN using Tensorflow\\1- The Hello World of Deep Learning with Neural Networks.ipynb\n",
      "D:\\Study\\AI\\D-HUB\\Excersices\\10- DNN and CNN using Tensorflow\\2- Neural Network Single Layer.ipynb\n",
      "D:\\Study\\AI\\D-HUB\\Excersices\\10- DNN and CNN using Tensorflow\\3- Beyond Hello World, A Computer Vision Example.ipynb\n",
      "D:\\Study\\AI\\D-HUB\\Excersices\\10- DNN and CNN using Tensorflow\\4- Improving Computer Vision Accuracy using Convolutions.ipynb\n",
      "D:\\Study\\AI\\D-HUB\\Excersices\\10- DNN and CNN using Tensorflow\\5- Licensed under the Apache License, Version 2.0 (the License);.ipynb\n",
      "D:\\Study\\AI\\D-HUB\\Excersices\\10- DNN and CNN using Tensorflow\\6- Handling complex images.ipynb\n",
      "D:\\Study\\AI\\D-HUB\\Excersices\\10- DNN and CNN using Tensorflow\\7- Digit Recognition with TensorFlow.ipynb\n",
      "D:\\Study\\AI\\D-HUB\\Excersices\\10- DNN and CNN using Tensorflow\\8- Image Classification.ipynb\n",
      "D:\\Study\\AI\\D-HUB\\Excersices\\10- DNN and CNN using Tensorflow\\final_cifar10.h5\n",
      "D:\\Study\\AI\\D-HUB\\Excersices\\10- DNN and CNN using Tensorflow\\final_CNN_model.h5\n",
      "D:\\Study\\AI\\D-HUB\\Excersices\\10- DNN and CNN using Tensorflow\\final_DNN_model.h5\n",
      "D:\\Study\\AI\\D-HUB\\Excersices\\10- DNN and CNN using Tensorflow\\horse-or-human.zip\n",
      "D:\\Study\\AI\\D-HUB\\Excersices\\10- DNN and CNN using Tensorflow\\test_horse_or_human.zip\n",
      "D:\\Study\\AI\\D-HUB\\Excersices\\10- DNN and CNN using Tensorflow\\validation-horse-or-human.zip\n",
      "D:\\Study\\AI\\D-HUB\\Excersices\\10- DNN and CNN using Tensorflow\\.ipynb_checkpoints\n",
      "D:\\Study\\AI\\D-HUB\\Excersices\\11 - Matplotlib Tutorial\\.ipynb_checkpoints\\04.01-Simple-Line-Plots-checkpoint.ipynb\n",
      "D:\\Study\\AI\\D-HUB\\Excersices\\11 - Matplotlib Tutorial\\.ipynb_checkpoints\\04.02-Simple-Scatter-Plots-checkpoint.ipynb\n",
      "D:\\Study\\AI\\D-HUB\\Excersices\\11 - Matplotlib Tutorial\\04.00-Introduction-To-Matplotlib.ipynb\n",
      "D:\\Study\\AI\\D-HUB\\Excersices\\11 - Matplotlib Tutorial\\04.01-Simple-Line-Plots.ipynb\n",
      "D:\\Study\\AI\\D-HUB\\Excersices\\11 - Matplotlib Tutorial\\04.02-Simple-Scatter-Plots.ipynb\n",
      "D:\\Study\\AI\\D-HUB\\Excersices\\11 - Matplotlib Tutorial\\04.03-Errorbars.ipynb\n",
      "D:\\Study\\AI\\D-HUB\\Excersices\\11 - Matplotlib Tutorial\\04.04-Density-and-Contour-Plots.ipynb\n",
      "D:\\Study\\AI\\D-HUB\\Excersices\\11 - Matplotlib Tutorial\\04.05-Histograms-and-Binnings.ipynb\n",
      "D:\\Study\\AI\\D-HUB\\Excersices\\11 - Matplotlib Tutorial\\04.06-Customizing-Legends.ipynb\n",
      "D:\\Study\\AI\\D-HUB\\Excersices\\11 - Matplotlib Tutorial\\04.07-Customizing-Colorbars.ipynb\n",
      "D:\\Study\\AI\\D-HUB\\Excersices\\11 - Matplotlib Tutorial\\04.08-Multiple-Subplots.ipynb\n",
      "D:\\Study\\AI\\D-HUB\\Excersices\\11 - Matplotlib Tutorial\\04.09-Text-and-Annotation.ipynb\n",
      "D:\\Study\\AI\\D-HUB\\Excersices\\11 - Matplotlib Tutorial\\04.10-Customizing-Ticks.ipynb\n",
      "D:\\Study\\AI\\D-HUB\\Excersices\\11 - Matplotlib Tutorial\\04.11-Settings-and-Stylesheets.ipynb\n",
      "D:\\Study\\AI\\D-HUB\\Excersices\\11 - Matplotlib Tutorial\\04.12-Three-Dimensional-Plotting.ipynb\n",
      "D:\\Study\\AI\\D-HUB\\Excersices\\11 - Matplotlib Tutorial\\04.13-Geographic-Data-With-Basemap.ipynb\n",
      "D:\\Study\\AI\\D-HUB\\Excersices\\11 - Matplotlib Tutorial\\04.14-Visualization-With-Seaborn.ipynb\n",
      "D:\\Study\\AI\\D-HUB\\Excersices\\11 - Matplotlib Tutorial\\04.15-Further-Resources.ipynb\n",
      "D:\\Study\\AI\\D-HUB\\Excersices\\11 - Matplotlib Tutorial\\.ipynb_checkpoints\n",
      "D:\\Study\\AI\\D-HUB\\Excersices\\Extra examples\\Machine-Learning-with-Python-master\\.github\\FUNDING.yml\n",
      "D:\\Study\\AI\\D-HUB\\Excersices\\Extra examples\\Machine-Learning-with-Python-master\\Business_optimization\\Readme.md\n",
      "D:\\Study\\AI\\D-HUB\\Excersices\\Extra examples\\Machine-Learning-with-Python-master\\Business_optimization\\Self_optimizing_ML_simple_example.ipynb\n",
      "D:\\Study\\AI\\D-HUB\\Excersices\\Extra examples\\Machine-Learning-with-Python-master\\Business_optimization\\.ipynb_checkpoints\n",
      "D:\\Study\\AI\\D-HUB\\Excersices\\Extra examples\\Machine-Learning-with-Python-master\\Classification\\DecisionTrees_RandomForest_Classification.ipynb\n",
      "D:\\Study\\AI\\D-HUB\\Excersices\\Extra examples\\Machine-Learning-with-Python-master\\Classification\\KNN_Classification.ipynb\n",
      "D:\\Study\\AI\\D-HUB\\Excersices\\Extra examples\\Machine-Learning-with-Python-master\\Classification\\Logistic_Regression_Classification.ipynb\n",
      "D:\\Study\\AI\\D-HUB\\Excersices\\Extra examples\\Machine-Learning-with-Python-master\\Classification\\Logistic_Reg_sklearn_statsmodels.ipynb\n",
      "D:\\Study\\AI\\D-HUB\\Excersices\\Extra examples\\Machine-Learning-with-Python-master\\Classification\\Naive_Bayes_Classification.ipynb\n",
      "D:\\Study\\AI\\D-HUB\\Excersices\\Extra examples\\Machine-Learning-with-Python-master\\Classification\\Readme.md\n",
      "D:\\Study\\AI\\D-HUB\\Excersices\\Extra examples\\Machine-Learning-with-Python-master\\Classification\\Skewed_Logistic_Regression.ipynb\n",
      "D:\\Study\\AI\\D-HUB\\Excersices\\Extra examples\\Machine-Learning-with-Python-master\\Classification\\Stochastic_grad_descent.ipynb\n",
      "D:\\Study\\AI\\D-HUB\\Excersices\\Extra examples\\Machine-Learning-with-Python-master\\Classification\\Support_Vector_Machine_Classification.ipynb\n",
      "D:\\Study\\AI\\D-HUB\\Excersices\\Extra examples\\Machine-Learning-with-Python-master\\Classification\\.ipynb_checkpoints\n",
      "D:\\Study\\AI\\D-HUB\\Excersices\\Extra examples\\Machine-Learning-with-Python-master\\Clustering-Dimensionality-Reduction\\Affinity_Propagation.ipynb\n",
      "D:\\Study\\AI\\D-HUB\\Excersices\\Extra examples\\Machine-Learning-with-Python-master\\Clustering-Dimensionality-Reduction\\Clustering_metrics.ipynb\n",
      "D:\\Study\\AI\\D-HUB\\Excersices\\Extra examples\\Machine-Learning-with-Python-master\\Clustering-Dimensionality-Reduction\\Clustering_with_dim_reduction.ipynb\n",
      "D:\\Study\\AI\\D-HUB\\Excersices\\Extra examples\\Machine-Learning-with-Python-master\\Clustering-Dimensionality-Reduction\\DBScan_Clustering.ipynb\n",
      "D:\\Study\\AI\\D-HUB\\Excersices\\Extra examples\\Machine-Learning-with-Python-master\\Clustering-Dimensionality-Reduction\\Hierarchical_Clustering.ipynb\n",
      "D:\\Study\\AI\\D-HUB\\Excersices\\Extra examples\\Machine-Learning-with-Python-master\\Clustering-Dimensionality-Reduction\\k-means_clustering_GMM.ipynb\n",
      "D:\\Study\\AI\\D-HUB\\Excersices\\Extra examples\\Machine-Learning-with-Python-master\\Clustering-Dimensionality-Reduction\\K_Means_Clustering_Practice.ipynb\n",
      "D:\\Study\\AI\\D-HUB\\Excersices\\Extra examples\\Machine-Learning-with-Python-master\\Clustering-Dimensionality-Reduction\\Mean_Shift_Clustering.ipynb\n",
      "D:\\Study\\AI\\D-HUB\\Excersices\\Extra examples\\Machine-Learning-with-Python-master\\Clustering-Dimensionality-Reduction\\Principal Component Analysis.ipynb\n",
      "D:\\Study\\AI\\D-HUB\\Excersices\\Extra examples\\Machine-Learning-with-Python-master\\Clustering-Dimensionality-Reduction\\Readme.md\n",
      "D:\\Study\\AI\\D-HUB\\Excersices\\Extra examples\\Machine-Learning-with-Python-master\\Complexity_Learning_curves\\Complexity_Learning_Analysis_Lending_Data.ipynb\n",
      "D:\\Study\\AI\\D-HUB\\Excersices\\Extra examples\\Machine-Learning-with-Python-master\\Complexity_Learning_curves\\Complexity_learning_curve_Hastie_dataset.ipynb\n",
      "D:\\Study\\AI\\D-HUB\\Excersices\\Extra examples\\Machine-Learning-with-Python-master\\Complexity_Learning_curves\\Readme.md\n",
      "D:\\Study\\AI\\D-HUB\\Excersices\\Extra examples\\Machine-Learning-with-Python-master\\Datasets\\adult_income_data.csv\n",
      "D:\\Study\\AI\\D-HUB\\Excersices\\Extra examples\\Machine-Learning-with-Python-master\\Datasets\\Classified Data\n",
      "D:\\Study\\AI\\D-HUB\\Excersices\\Extra examples\\Machine-Learning-with-Python-master\\Datasets\\College_Data\n",
      "D:\\Study\\AI\\D-HUB\\Excersices\\Extra examples\\Machine-Learning-with-Python-master\\Datasets\\Concrete_Data.xls\n",
      "D:\\Study\\AI\\D-HUB\\Excersices\\Extra examples\\Machine-Learning-with-Python-master\\Datasets\\Height_Weight.xlsx\n",
      "D:\\Study\\AI\\D-HUB\\Excersices\\Extra examples\\Machine-Learning-with-Python-master\\Datasets\\hypothyroid.csv\n",
      "D:\\Study\\AI\\D-HUB\\Excersices\\Extra examples\\Machine-Learning-with-Python-master\\Datasets\\loan_data.csv\n",
      "D:\\Study\\AI\\D-HUB\\Excersices\\Extra examples\\Machine-Learning-with-Python-master\\Datasets\\Mall_Customers.csv\n",
      "D:\\Study\\AI\\D-HUB\\Excersices\\Extra examples\\Machine-Learning-with-Python-master\\Datasets\\Readme.md\n",
      "D:\\Study\\AI\\D-HUB\\Excersices\\Extra examples\\Machine-Learning-with-Python-master\\Datasets\\Sample - Superstore.xls\n",
      "D:\\Study\\AI\\D-HUB\\Excersices\\Extra examples\\Machine-Learning-with-Python-master\\Datasets\\slump_test.csv\n",
      "D:\\Study\\AI\\D-HUB\\Excersices\\Extra examples\\Machine-Learning-with-Python-master\\Datasets\\titanic_test.csv\n",
      "D:\\Study\\AI\\D-HUB\\Excersices\\Extra examples\\Machine-Learning-with-Python-master\\Datasets\\titanic_train.csv\n",
      "D:\\Study\\AI\\D-HUB\\Excersices\\Extra examples\\Machine-Learning-with-Python-master\\Datasets\\USA_Housing.csv\n",
      "D:\\Study\\AI\\D-HUB\\Excersices\\Extra examples\\Machine-Learning-with-Python-master\\Datasets\\wine.data.csv\n",
      "D:\\Study\\AI\\D-HUB\\Excersices\\Extra examples\\Machine-Learning-with-Python-master\\Datasets\\winequality-red.csv\n",
      "D:\\Study\\AI\\D-HUB\\Excersices\\Extra examples\\Machine-Learning-with-Python-master\\Deployment\\Linear_regression\\data\\housing_test.csv\n",
      "D:\\Study\\AI\\D-HUB\\Excersices\\Extra examples\\Machine-Learning-with-Python-master\\Deployment\\Linear_regression\\data\\Readme.md\n",
      "D:\\Study\\AI\\D-HUB\\Excersices\\Extra examples\\Machine-Learning-with-Python-master\\Deployment\\Linear_regression\\data\\USA_Housing.csv\n",
      "D:\\Study\\AI\\D-HUB\\Excersices\\Extra examples\\Machine-Learning-with-Python-master\\Deployment\\Linear_regression\\models\\lm_model_v1.pk\n",
      "D:\\Study\\AI\\D-HUB\\Excersices\\Extra examples\\Machine-Learning-with-Python-master\\Deployment\\Linear_regression\\models\\Readme.md\n",
      "D:\\Study\\AI\\D-HUB\\Excersices\\Extra examples\\Machine-Learning-with-Python-master\\Deployment\\Linear_regression\\.gitignore\n",
      "D:\\Study\\AI\\D-HUB\\Excersices\\Extra examples\\Machine-Learning-with-Python-master\\Deployment\\Linear_regression\\Readme.md\n",
      "D:\\Study\\AI\\D-HUB\\Excersices\\Extra examples\\Machine-Learning-with-Python-master\\Deployment\\Linear_regression\\request_pred.py\n",
      "D:\\Study\\AI\\D-HUB\\Excersices\\Extra examples\\Machine-Learning-with-Python-master\\Deployment\\Linear_regression\\requirements.txt\n",
      "D:\\Study\\AI\\D-HUB\\Excersices\\Extra examples\\Machine-Learning-with-Python-master\\Deployment\\Linear_regression\\server_lm.py\n",
      "D:\\Study\\AI\\D-HUB\\Excersices\\Extra examples\\Machine-Learning-with-Python-master\\Deployment\\Linear_regression\\training_housing.py\n",
      "D:\\Study\\AI\\D-HUB\\Excersices\\Extra examples\\Machine-Learning-with-Python-master\\Deployment\\Linear_regression\\data\n",
      "D:\\Study\\AI\\D-HUB\\Excersices\\Extra examples\\Machine-Learning-with-Python-master\\Deployment\\Linear_regression\\models\n",
      "D:\\Study\\AI\\D-HUB\\Excersices\\Extra examples\\Machine-Learning-with-Python-master\\Deployment\\rnn_app\\data\\Readme.md\n",
      "D:\\Study\\AI\\D-HUB\\Excersices\\Extra examples\\Machine-Learning-with-Python-master\\Deployment\\rnn_app\\data\\sequences.json\n",
      "D:\\Study\\AI\\D-HUB\\Excersices\\Extra examples\\Machine-Learning-with-Python-master\\Deployment\\rnn_app\\data\\training-rnn.json\n",
      "D:\\Study\\AI\\D-HUB\\Excersices\\Extra examples\\Machine-Learning-with-Python-master\\Deployment\\rnn_app\\data\\word-index.json\n",
      "D:\\Study\\AI\\D-HUB\\Excersices\\Extra examples\\Machine-Learning-with-Python-master\\Deployment\\rnn_app\\models\\Readme.md\n",
      "D:\\Study\\AI\\D-HUB\\Excersices\\Extra examples\\Machine-Learning-with-Python-master\\Deployment\\rnn_app\\models\\train-embeddings-rnn.h5\n",
      "D:\\Study\\AI\\D-HUB\\Excersices\\Extra examples\\Machine-Learning-with-Python-master\\Deployment\\rnn_app\\static\\css\\main.css\n",
      "D:\\Study\\AI\\D-HUB\\Excersices\\Extra examples\\Machine-Learning-with-Python-master\\Deployment\\rnn_app\\static\\css\\Readme.md\n",
      "D:\\Study\\AI\\D-HUB\\Excersices\\Extra examples\\Machine-Learning-with-Python-master\\Deployment\\rnn_app\\static\\images\\lstm.ico\n",
      "D:\\Study\\AI\\D-HUB\\Excersices\\Extra examples\\Machine-Learning-with-Python-master\\Deployment\\rnn_app\\static\\images\\Readme.md\n",
      "D:\\Study\\AI\\D-HUB\\Excersices\\Extra examples\\Machine-Learning-with-Python-master\\Deployment\\rnn_app\\static\\Readme.md\n",
      "D:\\Study\\AI\\D-HUB\\Excersices\\Extra examples\\Machine-Learning-with-Python-master\\Deployment\\rnn_app\\static\\css\n",
      "D:\\Study\\AI\\D-HUB\\Excersices\\Extra examples\\Machine-Learning-with-Python-master\\Deployment\\rnn_app\\static\\images\n",
      "D:\\Study\\AI\\D-HUB\\Excersices\\Extra examples\\Machine-Learning-with-Python-master\\Deployment\\rnn_app\\templates\\index.html\n",
      "D:\\Study\\AI\\D-HUB\\Excersices\\Extra examples\\Machine-Learning-with-Python-master\\Deployment\\rnn_app\\templates\\random.html\n",
      "D:\\Study\\AI\\D-HUB\\Excersices\\Extra examples\\Machine-Learning-with-Python-master\\Deployment\\rnn_app\\templates\\Readme.md\n",
      "D:\\Study\\AI\\D-HUB\\Excersices\\Extra examples\\Machine-Learning-with-Python-master\\Deployment\\rnn_app\\templates\\seeded.html\n",
      "D:\\Study\\AI\\D-HUB\\Excersices\\Extra examples\\Machine-Learning-with-Python-master\\Deployment\\rnn_app\\form.py\n",
      "D:\\Study\\AI\\D-HUB\\Excersices\\Extra examples\\Machine-Learning-with-Python-master\\Deployment\\rnn_app\\keras_server.py\n",
      "D:\\Study\\AI\\D-HUB\\Excersices\\Extra examples\\Machine-Learning-with-Python-master\\Deployment\\rnn_app\\nothing_much.py\n",
      "D:\\Study\\AI\\D-HUB\\Excersices\\Extra examples\\Machine-Learning-with-Python-master\\Deployment\\rnn_app\\Readme.md\n",
      "D:\\Study\\AI\\D-HUB\\Excersices\\Extra examples\\Machine-Learning-with-Python-master\\Deployment\\rnn_app\\requirements.txt\n",
      "D:\\Study\\AI\\D-HUB\\Excersices\\Extra examples\\Machine-Learning-with-Python-master\\Deployment\\rnn_app\\utils.py\n",
      "D:\\Study\\AI\\D-HUB\\Excersices\\Extra examples\\Machine-Learning-with-Python-master\\Deployment\\rnn_app\\data\n",
      "D:\\Study\\AI\\D-HUB\\Excersices\\Extra examples\\Machine-Learning-with-Python-master\\Deployment\\rnn_app\\models\n",
      "D:\\Study\\AI\\D-HUB\\Excersices\\Extra examples\\Machine-Learning-with-Python-master\\Deployment\\rnn_app\\static\n",
      "D:\\Study\\AI\\D-HUB\\Excersices\\Extra examples\\Machine-Learning-with-Python-master\\Deployment\\rnn_app\\templates\n",
      "D:\\Study\\AI\\D-HUB\\Excersices\\Extra examples\\Machine-Learning-with-Python-master\\Deployment\\Readme.md\n",
      "D:\\Study\\AI\\D-HUB\\Excersices\\Extra examples\\Machine-Learning-with-Python-master\\Deployment\\Linear_regression\n",
      "D:\\Study\\AI\\D-HUB\\Excersices\\Extra examples\\Machine-Learning-with-Python-master\\Deployment\\rnn_app\n",
      "D:\\Study\\AI\\D-HUB\\Excersices\\Extra examples\\Machine-Learning-with-Python-master\\docs\\conf.py\n",
      "D:\\Study\\AI\\D-HUB\\Excersices\\Extra examples\\Machine-Learning-with-Python-master\\docs\\index.rst\n",
      "D:\\Study\\AI\\D-HUB\\Excersices\\Extra examples\\Machine-Learning-with-Python-master\\Function Approximation by Neural Network\\Function approximation by linear model and deep network LOOP test.ipynb\n",
      "D:\\Study\\AI\\D-HUB\\Excersices\\Extra examples\\Machine-Learning-with-Python-master\\Function Approximation by Neural Network\\Function approximation by linear model and deep network.ipynb\n",
      "D:\\Study\\AI\\D-HUB\\Excersices\\Extra examples\\Machine-Learning-with-Python-master\\Function Approximation by Neural Network\\Linear_Regression_Methods.ipynb\n",
      "D:\\Study\\AI\\D-HUB\\Excersices\\Extra examples\\Machine-Learning-with-Python-master\\Function Approximation by Neural Network\\Multi-variate LASSO regression with CV.ipynb\n",
      "D:\\Study\\AI\\D-HUB\\Excersices\\Extra examples\\Machine-Learning-with-Python-master\\Function Approximation by Neural Network\\Polynomial regression - linear and neural network.ipynb\n",
      "D:\\Study\\AI\\D-HUB\\Excersices\\Extra examples\\Machine-Learning-with-Python-master\\Function Approximation by Neural Network\\Readme.md\n",
      "D:\\Study\\AI\\D-HUB\\Excersices\\Extra examples\\Machine-Learning-with-Python-master\\Function Approximation by Neural Network\\Regularized polynomial regression with linear and random sampling - LOOP.ipynb\n",
      "D:\\Study\\AI\\D-HUB\\Excersices\\Extra examples\\Machine-Learning-with-Python-master\\Function Approximation by Neural Network\\Regularized polynomial regression with linear and random sampling.ipynb\n",
      "D:\\Study\\AI\\D-HUB\\Excersices\\Extra examples\\Machine-Learning-with-Python-master\\Images\\Complexity_curve_example.PNG\n",
      "D:\\Study\\AI\\D-HUB\\Excersices\\Extra examples\\Machine-Learning-with-Python-master\\Images\\Height_Weight_file_picture.PNG\n",
      "D:\\Study\\AI\\D-HUB\\Excersices\\Extra examples\\Machine-Learning-with-Python-master\\Images\\ML-DS-cycle-1.png\n",
      "D:\\Study\\AI\\D-HUB\\Excersices\\Extra examples\\Machine-Learning-with-Python-master\\Images\\NN-model_process.png\n",
      "D:\\Study\\AI\\D-HUB\\Excersices\\Extra examples\\Machine-Learning-with-Python-master\\Images\\NN-RSM-flow.PNG\n",
      "D:\\Study\\AI\\D-HUB\\Excersices\\Extra examples\\Machine-Learning-with-Python-master\\Images\\pandas-site.PNG\n",
      "D:\\Study\\AI\\D-HUB\\Excersices\\Extra examples\\Machine-Learning-with-Python-master\\Images\\Readme.md\n",
      "D:\\Study\\AI\\D-HUB\\Excersices\\Extra examples\\Machine-Learning-with-Python-master\\Images\\st-1.PNG\n",
      "D:\\Study\\AI\\D-HUB\\Excersices\\Extra examples\\Machine-Learning-with-Python-master\\Images\\SVM-1.PNG\n",
      "D:\\Study\\AI\\D-HUB\\Excersices\\Extra examples\\Machine-Learning-with-Python-master\\Memory-profiling\\Scalene\\linearmodel.py\n",
      "D:\\Study\\AI\\D-HUB\\Excersices\\Extra examples\\Machine-Learning-with-Python-master\\Memory-profiling\\Scalene\\mlp.py\n",
      "D:\\Study\\AI\\D-HUB\\Excersices\\Extra examples\\Machine-Learning-with-Python-master\\Memory-profiling\\Scalene\\Readme.md\n",
      "D:\\Study\\AI\\D-HUB\\Excersices\\Extra examples\\Machine-Learning-with-Python-master\\Memory-profiling\\Scalene\\scalene-1.PNG\n",
      "D:\\Study\\AI\\D-HUB\\Excersices\\Extra examples\\Machine-Learning-with-Python-master\\Memory-profiling\\Readme.md\n",
      "D:\\Study\\AI\\D-HUB\\Excersices\\Extra examples\\Machine-Learning-with-Python-master\\Memory-profiling\\Scalene\n",
      "D:\\Study\\AI\\D-HUB\\Excersices\\Extra examples\\Machine-Learning-with-Python-master\\OOP_in_ML\\Class_MyLinearRegression.ipynb\n",
      "D:\\Study\\AI\\D-HUB\\Excersices\\Extra examples\\Machine-Learning-with-Python-master\\OOP_in_ML\\Class_MyLinearRegression.py\n",
      "D:\\Study\\AI\\D-HUB\\Excersices\\Extra examples\\Machine-Learning-with-Python-master\\OOP_in_ML\\Readme.md\n",
      "D:\\Study\\AI\\D-HUB\\Excersices\\Extra examples\\Machine-Learning-with-Python-master\\OOP_in_ML\\Test_MLR.ipynb\n",
      "D:\\Study\\AI\\D-HUB\\Excersices\\Extra examples\\Machine-Learning-with-Python-master\\Pandas and Numpy\\Read_data_various_sources\\Boston_housing.csv\n",
      "D:\\Study\\AI\\D-HUB\\Excersices\\Extra examples\\Machine-Learning-with-Python-master\\Pandas and Numpy\\Read_data_various_sources\\CSV_EX_1.csv\n",
      "D:\\Study\\AI\\D-HUB\\Excersices\\Extra examples\\Machine-Learning-with-Python-master\\Pandas and Numpy\\Read_data_various_sources\\CSV_EX_2.csv\n",
      "D:\\Study\\AI\\D-HUB\\Excersices\\Extra examples\\Machine-Learning-with-Python-master\\Pandas and Numpy\\Read_data_various_sources\\CSV_EX_3.csv\n",
      "D:\\Study\\AI\\D-HUB\\Excersices\\Extra examples\\Machine-Learning-with-Python-master\\Pandas and Numpy\\Read_data_various_sources\\CSV_EX_blankline.csv\n",
      "D:\\Study\\AI\\D-HUB\\Excersices\\Extra examples\\Machine-Learning-with-Python-master\\Pandas and Numpy\\Read_data_various_sources\\CSV_EX_skipfooter.csv\n",
      "D:\\Study\\AI\\D-HUB\\Excersices\\Extra examples\\Machine-Learning-with-Python-master\\Pandas and Numpy\\Read_data_various_sources\\CSV_EX_skiprows.csv\n",
      "D:\\Study\\AI\\D-HUB\\Excersices\\Extra examples\\Machine-Learning-with-Python-master\\Pandas and Numpy\\Read_data_various_sources\\dir.PNG\n",
      "D:\\Study\\AI\\D-HUB\\Excersices\\Extra examples\\Machine-Learning-with-Python-master\\Pandas and Numpy\\Read_data_various_sources\\Housing_data.xlsx\n",
      "D:\\Study\\AI\\D-HUB\\Excersices\\Extra examples\\Machine-Learning-with-Python-master\\Pandas and Numpy\\Read_data_various_sources\\How to read various sources in a DataFrame.ipynb\n",
      "D:\\Study\\AI\\D-HUB\\Excersices\\Extra examples\\Machine-Learning-with-Python-master\\Pandas and Numpy\\Read_data_various_sources\\Pandas CSV vs. PyArrow parquet reading speed.ipynb\n",
      "D:\\Study\\AI\\D-HUB\\Excersices\\Extra examples\\Machine-Learning-with-Python-master\\Pandas and Numpy\\Read_data_various_sources\\PDF table reading and processing demo.ipynb\n",
      "D:\\Study\\AI\\D-HUB\\Excersices\\Extra examples\\Machine-Learning-with-Python-master\\Pandas and Numpy\\Read_data_various_sources\\Readme.md\n",
      "D:\\Study\\AI\\D-HUB\\Excersices\\Extra examples\\Machine-Learning-with-Python-master\\Pandas and Numpy\\Read_data_various_sources\\Table_EX_1.txt\n",
      "D:\\Study\\AI\\D-HUB\\Excersices\\Extra examples\\Machine-Learning-with-Python-master\\Pandas and Numpy\\Read_data_various_sources\\Table_tab_separated.txt\n",
      "D:\\Study\\AI\\D-HUB\\Excersices\\Extra examples\\Machine-Learning-with-Python-master\\Pandas and Numpy\\Read_data_various_sources\\WDI-2016.pdf\n",
      "D:\\Study\\AI\\D-HUB\\Excersices\\Extra examples\\Machine-Learning-with-Python-master\\Pandas and Numpy\\Advanced Pandas Operations.ipynb\n",
      "D:\\Study\\AI\\D-HUB\\Excersices\\Extra examples\\Machine-Learning-with-Python-master\\Pandas and Numpy\\fdata.txt\n",
      "D:\\Study\\AI\\D-HUB\\Excersices\\Extra examples\\Machine-Learning-with-Python-master\\Pandas and Numpy\\fnumpy.npy\n",
      "D:\\Study\\AI\\D-HUB\\Excersices\\Extra examples\\Machine-Learning-with-Python-master\\Pandas and Numpy\\How fast are NumPy ops.ipynb\n",
      "D:\\Study\\AI\\D-HUB\\Excersices\\Extra examples\\Machine-Learning-with-Python-master\\Pandas and Numpy\\Matplotlib_Seaborn_basics.ipynb\n",
      "D:\\Study\\AI\\D-HUB\\Excersices\\Extra examples\\Machine-Learning-with-Python-master\\Pandas and Numpy\\Numpy_operations.ipynb\n",
      "D:\\Study\\AI\\D-HUB\\Excersices\\Extra examples\\Machine-Learning-with-Python-master\\Pandas and Numpy\\Numpy_Pandas_Quick.ipynb\n",
      "D:\\Study\\AI\\D-HUB\\Excersices\\Extra examples\\Machine-Learning-with-Python-master\\Pandas and Numpy\\Numpy_Reading.ipynb\n",
      "D:\\Study\\AI\\D-HUB\\Excersices\\Extra examples\\Machine-Learning-with-Python-master\\Pandas and Numpy\\Pandas_iteration.ipynb\n",
      "D:\\Study\\AI\\D-HUB\\Excersices\\Extra examples\\Machine-Learning-with-Python-master\\Pandas and Numpy\\Pandas_Operations.ipynb\n",
      "D:\\Study\\AI\\D-HUB\\Excersices\\Extra examples\\Machine-Learning-with-Python-master\\Pandas and Numpy\\pdpipe-example.ipynb\n",
      "D:\\Study\\AI\\D-HUB\\Excersices\\Extra examples\\Machine-Learning-with-Python-master\\Pandas and Numpy\\Readme.md\n",
      "D:\\Study\\AI\\D-HUB\\Excersices\\Extra examples\\Machine-Learning-with-Python-master\\Pandas and Numpy\\Sample - Superstore.xls\n",
      "D:\\Study\\AI\\D-HUB\\Excersices\\Extra examples\\Machine-Learning-with-Python-master\\Pandas and Numpy\\Speed-up-Numpy-Pandas-with-Numexpr.ipynb\n",
      "D:\\Study\\AI\\D-HUB\\Excersices\\Extra examples\\Machine-Learning-with-Python-master\\Pandas and Numpy\\Read_data_various_sources\n",
      "D:\\Study\\AI\\D-HUB\\Excersices\\Extra examples\\Machine-Learning-with-Python-master\\Pytest\\linear_model.py\n",
      "D:\\Study\\AI\\D-HUB\\Excersices\\Extra examples\\Machine-Learning-with-Python-master\\Pytest\\Overall-scheme.png\n",
      "D:\\Study\\AI\\D-HUB\\Excersices\\Extra examples\\Machine-Learning-with-Python-master\\Pytest\\readme.md\n",
      "D:\\Study\\AI\\D-HUB\\Excersices\\Extra examples\\Machine-Learning-with-Python-master\\Pytest\\test_linear_model.py\n",
      "D:\\Study\\AI\\D-HUB\\Excersices\\Extra examples\\Machine-Learning-with-Python-master\\Random Function Generator\\Random_function_generator.ipynb\n",
      "D:\\Study\\AI\\D-HUB\\Excersices\\Extra examples\\Machine-Learning-with-Python-master\\Random Function Generator\\Readme.md\n",
      "D:\\Study\\AI\\D-HUB\\Excersices\\Extra examples\\Machine-Learning-with-Python-master\\Random Function Generator\\Symbolic regression classification generator.ipynb\n",
      "D:\\Study\\AI\\D-HUB\\Excersices\\Extra examples\\Machine-Learning-with-Python-master\\Random Function Generator\\Symbolic_regression_classification_generator.py\n",
      "D:\\Study\\AI\\D-HUB\\Excersices\\Extra examples\\Machine-Learning-with-Python-master\\Real Dataset Problems\\Marketing_data_analysis\\AddedFeatures_campaign_sale.csv\n",
      "D:\\Study\\AI\\D-HUB\\Excersices\\Extra examples\\Machine-Learning-with-Python-master\\Real Dataset Problems\\Marketing_data_analysis\\Cleaned_campaign_sale.csv\n",
      "D:\\Study\\AI\\D-HUB\\Excersices\\Extra examples\\Machine-Learning-with-Python-master\\Real Dataset Problems\\Marketing_data_analysis\\Dataviz.ipynb\n",
      "D:\\Study\\AI\\D-HUB\\Excersices\\Extra examples\\Machine-Learning-with-Python-master\\Real Dataset Problems\\Marketing_data_analysis\\Data_wrangling.ipynb\n",
      "D:\\Study\\AI\\D-HUB\\Excersices\\Extra examples\\Machine-Learning-with-Python-master\\Real Dataset Problems\\Marketing_data_analysis\\ML-1.ipynb\n",
      "D:\\Study\\AI\\D-HUB\\Excersices\\Extra examples\\Machine-Learning-with-Python-master\\Real Dataset Problems\\Marketing_data_analysis\\office_supply.csv\n",
      "D:\\Study\\AI\\D-HUB\\Excersices\\Extra examples\\Machine-Learning-with-Python-master\\Real Dataset Problems\\Marketing_data_analysis\\office_supply_campaign_results.xlsx\n",
      "D:\\Study\\AI\\D-HUB\\Excersices\\Extra examples\\Machine-Learning-with-Python-master\\Real Dataset Problems\\Marketing_data_analysis\\readme.md\n",
      "D:\\Study\\AI\\D-HUB\\Excersices\\Extra examples\\Machine-Learning-with-Python-master\\Real Dataset Problems\\Forest_Fire_Prediction.ipynb\n",
      "D:\\Study\\AI\\D-HUB\\Excersices\\Extra examples\\Machine-Learning-with-Python-master\\Real Dataset Problems\\Readme.md\n",
      "D:\\Study\\AI\\D-HUB\\Excersices\\Extra examples\\Machine-Learning-with-Python-master\\Real Dataset Problems\\Marketing_data_analysis\n",
      "D:\\Study\\AI\\D-HUB\\Excersices\\Extra examples\\Machine-Learning-with-Python-master\\Regression\\Linear_Regression_Methods.ipynb\n",
      "D:\\Study\\AI\\D-HUB\\Excersices\\Extra examples\\Machine-Learning-with-Python-master\\Regression\\Linear_Regression_Practice.ipynb\n",
      "D:\\Study\\AI\\D-HUB\\Excersices\\Extra examples\\Machine-Learning-with-Python-master\\Regression\\Linear_regression_statistical_estimation.ipynb\n",
      "D:\\Study\\AI\\D-HUB\\Excersices\\Extra examples\\Machine-Learning-with-Python-master\\Regression\\Multi-variate LASSO regression with CV.ipynb\n",
      "D:\\Study\\AI\\D-HUB\\Excersices\\Extra examples\\Machine-Learning-with-Python-master\\Regression\\Random_Forest_Regression.ipynb\n",
      "D:\\Study\\AI\\D-HUB\\Excersices\\Extra examples\\Machine-Learning-with-Python-master\\Regression\\Readme.md\n",
      "D:\\Study\\AI\\D-HUB\\Excersices\\Extra examples\\Machine-Learning-with-Python-master\\Regression\\Regression_Diagnostics.ipynb\n",
      "D:\\Study\\AI\\D-HUB\\Excersices\\Extra examples\\Machine-Learning-with-Python-master\\Regression\\Regularized polynomial regression with linear and random sampling.ipynb\n",
      "D:\\Study\\AI\\D-HUB\\Excersices\\Extra examples\\Machine-Learning-with-Python-master\\Regression\\Robust Linear Regression.ipynb\n",
      "D:\\Study\\AI\\D-HUB\\Excersices\\Extra examples\\Machine-Learning-with-Python-master\\Regression\\Support Vector Regression.ipynb\n",
      "D:\\Study\\AI\\D-HUB\\Excersices\\Extra examples\\Machine-Learning-with-Python-master\\Regression\\.ipynb_checkpoints\n",
      "D:\\Study\\AI\\D-HUB\\Excersices\\Extra examples\\Machine-Learning-with-Python-master\\Streamlit-ML-apps\\scripts\\hello-world.py\n",
      "D:\\Study\\AI\\D-HUB\\Excersices\\Extra examples\\Machine-Learning-with-Python-master\\Streamlit-ML-apps\\scripts\\is_prime_app.py\n",
      "D:\\Study\\AI\\D-HUB\\Excersices\\Extra examples\\Machine-Learning-with-Python-master\\Streamlit-ML-apps\\scripts\\Readme.md\n",
      "D:\\Study\\AI\\D-HUB\\Excersices\\Extra examples\\Machine-Learning-with-Python-master\\Streamlit-ML-apps\\scripts\\Streamlit-demo-one.py\n",
      "D:\\Study\\AI\\D-HUB\\Excersices\\Extra examples\\Machine-Learning-with-Python-master\\Streamlit-ML-apps\\Readme.md\n",
      "D:\\Study\\AI\\D-HUB\\Excersices\\Extra examples\\Machine-Learning-with-Python-master\\Streamlit-ML-apps\\scripts\n",
      "D:\\Study\\AI\\D-HUB\\Excersices\\Extra examples\\Machine-Learning-with-Python-master\\Synthetic_data_generation\\GMM_generator.ipynb\n",
      "D:\\Study\\AI\\D-HUB\\Excersices\\Extra examples\\Machine-Learning-with-Python-master\\Synthetic_data_generation\\Readme.md\n",
      "D:\\Study\\AI\\D-HUB\\Excersices\\Extra examples\\Machine-Learning-with-Python-master\\Synthetic_data_generation\\Scikit-learn-data-generation.ipynb\n",
      "D:\\Study\\AI\\D-HUB\\Excersices\\Extra examples\\Machine-Learning-with-Python-master\\Synthetic_data_generation\\Symbolic_regression_classification_generator.py\n",
      "D:\\Study\\AI\\D-HUB\\Excersices\\Extra examples\\Machine-Learning-with-Python-master\\Synthetic_data_generation\\Synthetic-Data-Generation.ipynb\n",
      "D:\\Study\\AI\\D-HUB\\Excersices\\Extra examples\\Machine-Learning-with-Python-master\\Synthetic_data_generation\\Synth_Time_series.ipynb\n",
      "D:\\Study\\AI\\D-HUB\\Excersices\\Extra examples\\Machine-Learning-with-Python-master\\Time-profiling\\8.14 - profile-DS-workflow.png\n",
      "D:\\Study\\AI\\D-HUB\\Excersices\\Extra examples\\Machine-Learning-with-Python-master\\Time-profiling\\cProfile.ipynb\n",
      "D:\\Study\\AI\\D-HUB\\Excersices\\Extra examples\\Machine-Learning-with-Python-master\\Time-profiling\\Readme.md\n",
      "D:\\Study\\AI\\D-HUB\\Excersices\\Extra examples\\Machine-Learning-with-Python-master\\Timing-decorator\\Readme.md\n",
      "D:\\Study\\AI\\D-HUB\\Excersices\\Extra examples\\Machine-Learning-with-Python-master\\Timing-decorator\\Timing-decorator-ML-optimization.ipynb\n",
      "D:\\Study\\AI\\D-HUB\\Excersices\\Extra examples\\Machine-Learning-with-Python-master\\Utilities\\ML-Python-utils.py\n",
      "D:\\Study\\AI\\D-HUB\\Excersices\\Extra examples\\Machine-Learning-with-Python-master\\Utilities\\Readme.md\n",
      "D:\\Study\\AI\\D-HUB\\Excersices\\Extra examples\\Machine-Learning-with-Python-master\\.gitignore\n",
      "D:\\Study\\AI\\D-HUB\\Excersices\\Extra examples\\Machine-Learning-with-Python-master\\Interactive ML-1.ipynb\n",
      "D:\\Study\\AI\\D-HUB\\Excersices\\Extra examples\\Machine-Learning-with-Python-master\\Jupyter_Markdown_Primer.ipynb\n",
      "D:\\Study\\AI\\D-HUB\\Excersices\\Extra examples\\Machine-Learning-with-Python-master\\LICENSE\n",
      "D:\\Study\\AI\\D-HUB\\Excersices\\Extra examples\\Machine-Learning-with-Python-master\\README.md\n",
      "D:\\Study\\AI\\D-HUB\\Excersices\\Extra examples\\Machine-Learning-with-Python-master\\_config.yml\n",
      "D:\\Study\\AI\\D-HUB\\Excersices\\Extra examples\\Machine-Learning-with-Python-master\\.github\n",
      "D:\\Study\\AI\\D-HUB\\Excersices\\Extra examples\\Machine-Learning-with-Python-master\\Business_optimization\n",
      "D:\\Study\\AI\\D-HUB\\Excersices\\Extra examples\\Machine-Learning-with-Python-master\\Classification\n",
      "D:\\Study\\AI\\D-HUB\\Excersices\\Extra examples\\Machine-Learning-with-Python-master\\Clustering-Dimensionality-Reduction\n",
      "D:\\Study\\AI\\D-HUB\\Excersices\\Extra examples\\Machine-Learning-with-Python-master\\Complexity_Learning_curves\n",
      "D:\\Study\\AI\\D-HUB\\Excersices\\Extra examples\\Machine-Learning-with-Python-master\\Datasets\n",
      "D:\\Study\\AI\\D-HUB\\Excersices\\Extra examples\\Machine-Learning-with-Python-master\\Deployment\n",
      "D:\\Study\\AI\\D-HUB\\Excersices\\Extra examples\\Machine-Learning-with-Python-master\\docs\n",
      "D:\\Study\\AI\\D-HUB\\Excersices\\Extra examples\\Machine-Learning-with-Python-master\\Function Approximation by Neural Network\n",
      "D:\\Study\\AI\\D-HUB\\Excersices\\Extra examples\\Machine-Learning-with-Python-master\\Images\n",
      "D:\\Study\\AI\\D-HUB\\Excersices\\Extra examples\\Machine-Learning-with-Python-master\\Memory-profiling\n",
      "D:\\Study\\AI\\D-HUB\\Excersices\\Extra examples\\Machine-Learning-with-Python-master\\OOP_in_ML\n",
      "D:\\Study\\AI\\D-HUB\\Excersices\\Extra examples\\Machine-Learning-with-Python-master\\Pandas and Numpy\n",
      "D:\\Study\\AI\\D-HUB\\Excersices\\Extra examples\\Machine-Learning-with-Python-master\\Pytest\n",
      "D:\\Study\\AI\\D-HUB\\Excersices\\Extra examples\\Machine-Learning-with-Python-master\\Random Function Generator\n",
      "D:\\Study\\AI\\D-HUB\\Excersices\\Extra examples\\Machine-Learning-with-Python-master\\Real Dataset Problems\n",
      "D:\\Study\\AI\\D-HUB\\Excersices\\Extra examples\\Machine-Learning-with-Python-master\\Regression\n",
      "D:\\Study\\AI\\D-HUB\\Excersices\\Extra examples\\Machine-Learning-with-Python-master\\Streamlit-ML-apps\n",
      "D:\\Study\\AI\\D-HUB\\Excersices\\Extra examples\\Machine-Learning-with-Python-master\\Synthetic_data_generation\n",
      "D:\\Study\\AI\\D-HUB\\Excersices\\Extra examples\\Machine-Learning-with-Python-master\\Time-profiling\n",
      "D:\\Study\\AI\\D-HUB\\Excersices\\Extra examples\\Machine-Learning-with-Python-master\\Timing-decorator\n",
      "D:\\Study\\AI\\D-HUB\\Excersices\\Extra examples\\Machine-Learning-with-Python-master\\Utilities\n",
      "D:\\Study\\AI\\D-HUB\\Excersices\\Extra examples\\Machine-Learning-with-Python-master.zip\n",
      "D:\\Study\\AI\\D-HUB\\Excersices\\Extra examples\\Machine-Learning-with-Python-master\n",
      "D:\\Study\\AI\\D-HUB\\Excersices\\IBM Excersices files\\artificial-intelligence-analyst-master\\artificial-intelligence-analyst-master\\ex03\\DecisionTreeSimple.ipynb\n",
      "D:\\Study\\AI\\D-HUB\\Excersices\\IBM Excersices files\\artificial-intelligence-analyst-master\\artificial-intelligence-analyst-master\\ex03\\LinearRegressionSimple.ipynb\n",
      "D:\\Study\\AI\\D-HUB\\Excersices\\IBM Excersices files\\artificial-intelligence-analyst-master\\artificial-intelligence-analyst-master\\ex03\\Welcome to PixieDust.ipynb\n",
      "D:\\Study\\AI\\D-HUB\\Excersices\\IBM Excersices files\\artificial-intelligence-analyst-master\\artificial-intelligence-analyst-master\\ex04\\customer_churn.csv\n",
      "D:\\Study\\AI\\D-HUB\\Excersices\\IBM Excersices files\\artificial-intelligence-analyst-master\\artificial-intelligence-analyst-master\\ex04\\iris_chaid.xml\n",
      "D:\\Study\\AI\\D-HUB\\Excersices\\IBM Excersices files\\artificial-intelligence-analyst-master\\artificial-intelligence-analyst-master\\ex05\\Use Core ML to predict Boston house Prices.ipynb\n",
      "D:\\Study\\AI\\D-HUB\\Excersices\\IBM Excersices files\\artificial-intelligence-analyst-master\\artificial-intelligence-analyst-master\\ex05\\Use-Tensorflow-to-recognize-hand-written-digits.ipynb\n",
      "D:\\Study\\AI\\D-HUB\\Excersices\\IBM Excersices files\\artificial-intelligence-analyst-master\\artificial-intelligence-analyst-master\\ex07\\dictionary-items-organization.csv\n",
      "D:\\Study\\AI\\D-HUB\\Excersices\\IBM Excersices files\\artificial-intelligence-analyst-master\\artificial-intelligence-analyst-master\\ex07\\documents-new.csv\n",
      "D:\\Study\\AI\\D-HUB\\Excersices\\IBM Excersices files\\artificial-intelligence-analyst-master\\artificial-intelligence-analyst-master\\ex07\\en-klue2-types.json\n",
      "D:\\Study\\AI\\D-HUB\\Excersices\\IBM Excersices files\\artificial-intelligence-analyst-master\\artificial-intelligence-analyst-master\\ex10\\chihuahua-muffin_testset.zip\n",
      "D:\\Study\\AI\\D-HUB\\Excersices\\IBM Excersices files\\artificial-intelligence-analyst-master\\artificial-intelligence-analyst-master\\ex10\\chihuahua-muffin_trainingset.zip\n",
      "D:\\Study\\AI\\D-HUB\\Excersices\\IBM Excersices files\\artificial-intelligence-analyst-master\\artificial-intelligence-analyst-master\\ex10\\image_recognition.ipynb\n",
      "D:\\Study\\AI\\D-HUB\\Excersices\\IBM Excersices files\\artificial-intelligence-analyst-master\\artificial-intelligence-analyst-master\\ChangeLog.md\n",
      "D:\\Study\\AI\\D-HUB\\Excersices\\IBM Excersices files\\artificial-intelligence-analyst-master\\artificial-intelligence-analyst-master\\Data Science Training.md\n",
      "D:\\Study\\AI\\D-HUB\\Excersices\\IBM Excersices files\\artificial-intelligence-analyst-master\\artificial-intelligence-analyst-master\\README.md\n",
      "D:\\Study\\AI\\D-HUB\\Excersices\\IBM Excersices files\\artificial-intelligence-analyst-master\\artificial-intelligence-analyst-master\\ex03\n",
      "D:\\Study\\AI\\D-HUB\\Excersices\\IBM Excersices files\\artificial-intelligence-analyst-master\\artificial-intelligence-analyst-master\\ex04\n",
      "D:\\Study\\AI\\D-HUB\\Excersices\\IBM Excersices files\\artificial-intelligence-analyst-master\\artificial-intelligence-analyst-master\\ex05\n",
      "D:\\Study\\AI\\D-HUB\\Excersices\\IBM Excersices files\\artificial-intelligence-analyst-master\\artificial-intelligence-analyst-master\\ex07\n",
      "D:\\Study\\AI\\D-HUB\\Excersices\\IBM Excersices files\\artificial-intelligence-analyst-master\\artificial-intelligence-analyst-master\\ex10\n",
      "D:\\Study\\AI\\D-HUB\\Excersices\\IBM Excersices files\\artificial-intelligence-analyst-master\\artificial-intelligence-analyst-master\n",
      "D:\\Study\\AI\\D-HUB\\Excersices\\IBM Excersices files\\Excersice 10\\chihuahua-muffin_testset.zip\n",
      "D:\\Study\\AI\\D-HUB\\Excersices\\IBM Excersices files\\Excersice 10\\chihuahua-muffin_trainingset.zip\n",
      "D:\\Study\\AI\\D-HUB\\Excersices\\IBM Excersices files\\Excersice 10\\image_recognition.ipynb\n",
      "D:\\Study\\AI\\D-HUB\\Excersices\\IBM Excersices files\\Excersice 2\\Language Translator\\Language Translator.txt\n",
      "D:\\Study\\AI\\D-HUB\\Excersices\\IBM Excersices files\\Excersice 2\\NLU\\NLU Ex.txt\n",
      "D:\\Study\\AI\\D-HUB\\Excersices\\IBM Excersices files\\Excersice 2\\Tone Analyzer\\Tone Analyzer Ex.txt\n",
      "D:\\Study\\AI\\D-HUB\\Excersices\\IBM Excersices files\\Excersice 2\\Language Translator\n",
      "D:\\Study\\AI\\D-HUB\\Excersices\\IBM Excersices files\\Excersice 2\\NLU\n",
      "D:\\Study\\AI\\D-HUB\\Excersices\\IBM Excersices files\\Excersice 2\\Tone Analyzer\n",
      "D:\\Study\\AI\\D-HUB\\Excersices\\IBM Excersices files\\Excersice 3\\DecisionTreeSimple.ipynb\n",
      "D:\\Study\\AI\\D-HUB\\Excersices\\IBM Excersices files\\Excersice 3\\LinearRegressionSimple.ipynb\n",
      "D:\\Study\\AI\\D-HUB\\Excersices\\IBM Excersices files\\Excersice 3\\Welcome to PixieDust.ipynb\n",
      "D:\\Study\\AI\\D-HUB\\Excersices\\IBM Excersices files\\Excersice 4\\annual-enterprise-survey-2019-financial-year-provisional-csv.csv\n",
      "D:\\Study\\AI\\D-HUB\\Excersices\\IBM Excersices files\\Excersice 4\\customer_churn.csv\n",
      "D:\\Study\\AI\\D-HUB\\Excersices\\IBM Excersices files\\Excersice 4\\ElNinoLinearReg.xml\n",
      "D:\\Study\\AI\\D-HUB\\Excersices\\IBM Excersices files\\Excersice 4\\iris_chaid.xml\n",
      "D:\\Study\\AI\\D-HUB\\Excersices\\IBM Excersices files\\Excersice 4\\Wtson Machine Learning EX.txt\n",
      "D:\\Study\\AI\\D-HUB\\Excersices\\IBM Excersices files\\Excersice 5\\.ipynb_checkpoints\\Use Core ML to predict Boston house Prices-checkpoint.ipynb\n",
      "D:\\Study\\AI\\D-HUB\\Excersices\\IBM Excersices files\\Excersice 5\\Use Core ML to predict Boston house Prices.ipynb\n",
      "D:\\Study\\AI\\D-HUB\\Excersices\\IBM Excersices files\\Excersice 5\\Use-Tensorflow-to-recognize-hand-written-digits.ipynb\n",
      "D:\\Study\\AI\\D-HUB\\Excersices\\IBM Excersices files\\Excersice 5\\.ipynb_checkpoints\n",
      "D:\\Study\\AI\\D-HUB\\Excersices\\IBM Excersices files\\Excersice 5\\0c785333-1e68-43f5-929c-435e8e452f76\n",
      "D:\\Study\\AI\\D-HUB\\Excersices\\IBM Excersices files\\Excersice 6\\Discovery-lab\\rental_reviews_easy_ingest_handpicked\\airbnb_review122.json\n",
      "D:\\Study\\AI\\D-HUB\\Excersices\\IBM Excersices files\\Excersice 6\\Discovery-lab\\rental_reviews_easy_ingest_handpicked\\airbnb_review123.json\n",
      "D:\\Study\\AI\\D-HUB\\Excersices\\IBM Excersices files\\Excersice 6\\Discovery-lab\\rental_reviews_easy_ingest_handpicked\\airbnb_review126.json\n",
      "D:\\Study\\AI\\D-HUB\\Excersices\\IBM Excersices files\\Excersice 6\\Discovery-lab\\rental_reviews_easy_ingest_handpicked\\airbnb_review131.json\n",
      "D:\\Study\\AI\\D-HUB\\Excersices\\IBM Excersices files\\Excersice 6\\Discovery-lab\\rental_reviews_easy_ingest_handpicked\\airbnb_review132.json\n",
      "D:\\Study\\AI\\D-HUB\\Excersices\\IBM Excersices files\\Excersice 6\\Discovery-lab\\rental_reviews_easy_ingest_handpicked\\airbnb_review144.json\n",
      "D:\\Study\\AI\\D-HUB\\Excersices\\IBM Excersices files\\Excersice 6\\Discovery-lab\\rental_reviews_easy_ingest_handpicked\\airbnb_review145.json\n",
      "D:\\Study\\AI\\D-HUB\\Excersices\\IBM Excersices files\\Excersice 6\\Discovery-lab\\rental_reviews_easy_ingest_handpicked\\airbnb_review152.json\n",
      "D:\\Study\\AI\\D-HUB\\Excersices\\IBM Excersices files\\Excersice 6\\Discovery-lab\\rental_reviews_easy_ingest_handpicked\\airbnb_review157.json\n",
      "D:\\Study\\AI\\D-HUB\\Excersices\\IBM Excersices files\\Excersice 6\\Discovery-lab\\rental_reviews_easy_ingest_handpicked\\airbnb_review160.json\n",
      "D:\\Study\\AI\\D-HUB\\Excersices\\IBM Excersices files\\Excersice 6\\Discovery-lab\\rental_reviews_easy_ingest_handpicked\\airbnb_review170.json\n",
      "D:\\Study\\AI\\D-HUB\\Excersices\\IBM Excersices files\\Excersice 6\\Discovery-lab\\rental_reviews_easy_ingest_handpicked\\airbnb_review172.json\n",
      "D:\\Study\\AI\\D-HUB\\Excersices\\IBM Excersices files\\Excersice 6\\Discovery-lab\\rental_reviews_easy_ingest_handpicked\\airbnb_review178.json\n",
      "D:\\Study\\AI\\D-HUB\\Excersices\\IBM Excersices files\\Excersice 6\\Discovery-lab\\rental_reviews_easy_ingest_handpicked\\airbnb_review182.json\n",
      "D:\\Study\\AI\\D-HUB\\Excersices\\IBM Excersices files\\Excersice 6\\Discovery-lab\\rental_reviews_easy_ingest_handpicked\\airbnb_review20.json\n",
      "D:\\Study\\AI\\D-HUB\\Excersices\\IBM Excersices files\\Excersice 6\\Discovery-lab\\rental_reviews_easy_ingest_handpicked\\airbnb_review204.json\n",
      "D:\\Study\\AI\\D-HUB\\Excersices\\IBM Excersices files\\Excersice 6\\Discovery-lab\\rental_reviews_easy_ingest_handpicked\\airbnb_review208.json\n",
      "D:\\Study\\AI\\D-HUB\\Excersices\\IBM Excersices files\\Excersice 6\\Discovery-lab\\rental_reviews_easy_ingest_handpicked\\airbnb_review210.json\n",
      "D:\\Study\\AI\\D-HUB\\Excersices\\IBM Excersices files\\Excersice 6\\Discovery-lab\\rental_reviews_easy_ingest_handpicked\\airbnb_review211.json\n",
      "D:\\Study\\AI\\D-HUB\\Excersices\\IBM Excersices files\\Excersice 6\\Discovery-lab\\rental_reviews_easy_ingest_handpicked\\airbnb_review212.json\n",
      "D:\\Study\\AI\\D-HUB\\Excersices\\IBM Excersices files\\Excersice 6\\Discovery-lab\\rental_reviews_easy_ingest_handpicked\\airbnb_review213.json\n",
      "D:\\Study\\AI\\D-HUB\\Excersices\\IBM Excersices files\\Excersice 6\\Discovery-lab\\rental_reviews_easy_ingest_handpicked\\airbnb_review214.json\n",
      "D:\\Study\\AI\\D-HUB\\Excersices\\IBM Excersices files\\Excersice 6\\Discovery-lab\\rental_reviews_easy_ingest_handpicked\\airbnb_review216.json\n",
      "D:\\Study\\AI\\D-HUB\\Excersices\\IBM Excersices files\\Excersice 6\\Discovery-lab\\rental_reviews_easy_ingest_handpicked\\airbnb_review219.json\n",
      "D:\\Study\\AI\\D-HUB\\Excersices\\IBM Excersices files\\Excersice 6\\Discovery-lab\\rental_reviews_easy_ingest_handpicked\\airbnb_review237.json\n",
      "D:\\Study\\AI\\D-HUB\\Excersices\\IBM Excersices files\\Excersice 6\\Discovery-lab\\rental_reviews_easy_ingest_handpicked\\airbnb_review241.json\n",
      "D:\\Study\\AI\\D-HUB\\Excersices\\IBM Excersices files\\Excersice 6\\Discovery-lab\\rental_reviews_easy_ingest_handpicked\\airbnb_review245.json\n",
      "D:\\Study\\AI\\D-HUB\\Excersices\\IBM Excersices files\\Excersice 6\\Discovery-lab\\rental_reviews_easy_ingest_handpicked\\airbnb_review246.json\n",
      "D:\\Study\\AI\\D-HUB\\Excersices\\IBM Excersices files\\Excersice 6\\Discovery-lab\\rental_reviews_easy_ingest_handpicked\\airbnb_review256.json\n",
      "D:\\Study\\AI\\D-HUB\\Excersices\\IBM Excersices files\\Excersice 6\\Discovery-lab\\rental_reviews_easy_ingest_handpicked\\airbnb_review262.json\n",
      "D:\\Study\\AI\\D-HUB\\Excersices\\IBM Excersices files\\Excersice 6\\Discovery-lab\\rental_reviews_easy_ingest_handpicked\\airbnb_review263.json\n",
      "D:\\Study\\AI\\D-HUB\\Excersices\\IBM Excersices files\\Excersice 6\\Discovery-lab\\rental_reviews_easy_ingest_handpicked\\airbnb_review264.json\n",
      "D:\\Study\\AI\\D-HUB\\Excersices\\IBM Excersices files\\Excersice 6\\Discovery-lab\\rental_reviews_easy_ingest_handpicked\\airbnb_review265.json\n",
      "D:\\Study\\AI\\D-HUB\\Excersices\\IBM Excersices files\\Excersice 6\\Discovery-lab\\rental_reviews_easy_ingest_handpicked\\airbnb_review268.json\n",
      "D:\\Study\\AI\\D-HUB\\Excersices\\IBM Excersices files\\Excersice 6\\Discovery-lab\\rental_reviews_easy_ingest_handpicked\\airbnb_review27.json\n",
      "D:\\Study\\AI\\D-HUB\\Excersices\\IBM Excersices files\\Excersice 6\\Discovery-lab\\rental_reviews_easy_ingest_handpicked\\airbnb_review284.json\n",
      "D:\\Study\\AI\\D-HUB\\Excersices\\IBM Excersices files\\Excersice 6\\Discovery-lab\\rental_reviews_easy_ingest_handpicked\\airbnb_review285.json\n",
      "D:\\Study\\AI\\D-HUB\\Excersices\\IBM Excersices files\\Excersice 6\\Discovery-lab\\rental_reviews_easy_ingest_handpicked\\airbnb_review286.json\n",
      "D:\\Study\\AI\\D-HUB\\Excersices\\IBM Excersices files\\Excersice 6\\Discovery-lab\\rental_reviews_easy_ingest_handpicked\\airbnb_review287.json\n",
      "D:\\Study\\AI\\D-HUB\\Excersices\\IBM Excersices files\\Excersice 6\\Discovery-lab\\rental_reviews_easy_ingest_handpicked\\airbnb_review288.json\n",
      "D:\\Study\\AI\\D-HUB\\Excersices\\IBM Excersices files\\Excersice 6\\Discovery-lab\\rental_reviews_easy_ingest_handpicked\\airbnb_review289.json\n",
      "D:\\Study\\AI\\D-HUB\\Excersices\\IBM Excersices files\\Excersice 6\\Discovery-lab\\rental_reviews_easy_ingest_handpicked\\airbnb_review290.json\n",
      "D:\\Study\\AI\\D-HUB\\Excersices\\IBM Excersices files\\Excersice 6\\Discovery-lab\\rental_reviews_easy_ingest_handpicked\\airbnb_review299.json\n",
      "D:\\Study\\AI\\D-HUB\\Excersices\\IBM Excersices files\\Excersice 6\\Discovery-lab\\rental_reviews_easy_ingest_handpicked\\airbnb_review3.json\n",
      "D:\\Study\\AI\\D-HUB\\Excersices\\IBM Excersices files\\Excersice 6\\Discovery-lab\\rental_reviews_easy_ingest_handpicked\\airbnb_review300.json\n",
      "D:\\Study\\AI\\D-HUB\\Excersices\\IBM Excersices files\\Excersice 6\\Discovery-lab\\rental_reviews_easy_ingest_handpicked\\airbnb_review304.json\n",
      "D:\\Study\\AI\\D-HUB\\Excersices\\IBM Excersices files\\Excersice 6\\Discovery-lab\\rental_reviews_easy_ingest_handpicked\\airbnb_review31.json\n",
      "D:\\Study\\AI\\D-HUB\\Excersices\\IBM Excersices files\\Excersice 6\\Discovery-lab\\rental_reviews_easy_ingest_handpicked\\airbnb_review311.json\n",
      "D:\\Study\\AI\\D-HUB\\Excersices\\IBM Excersices files\\Excersice 6\\Discovery-lab\\rental_reviews_easy_ingest_handpicked\\airbnb_review321.json\n",
      "D:\\Study\\AI\\D-HUB\\Excersices\\IBM Excersices files\\Excersice 6\\Discovery-lab\\rental_reviews_easy_ingest_handpicked\\airbnb_review336.json\n",
      "D:\\Study\\AI\\D-HUB\\Excersices\\IBM Excersices files\\Excersice 6\\Discovery-lab\\rental_reviews_easy_ingest_handpicked\\airbnb_review371.json\n",
      "D:\\Study\\AI\\D-HUB\\Excersices\\IBM Excersices files\\Excersice 6\\Discovery-lab\\rental_reviews_easy_ingest_handpicked\\airbnb_review394.json\n",
      "D:\\Study\\AI\\D-HUB\\Excersices\\IBM Excersices files\\Excersice 6\\Discovery-lab\\rental_reviews_easy_ingest_handpicked\\airbnb_review397.json\n",
      "D:\\Study\\AI\\D-HUB\\Excersices\\IBM Excersices files\\Excersice 6\\Discovery-lab\\rental_reviews_easy_ingest_handpicked\\airbnb_review401.json\n",
      "D:\\Study\\AI\\D-HUB\\Excersices\\IBM Excersices files\\Excersice 6\\Discovery-lab\\rental_reviews_easy_ingest_handpicked\\airbnb_review419.json\n",
      "D:\\Study\\AI\\D-HUB\\Excersices\\IBM Excersices files\\Excersice 6\\Discovery-lab\\rental_reviews_easy_ingest_handpicked\\airbnb_review436.json\n",
      "D:\\Study\\AI\\D-HUB\\Excersices\\IBM Excersices files\\Excersice 6\\Discovery-lab\\rental_reviews_easy_ingest_handpicked\\airbnb_review446.json\n",
      "D:\\Study\\AI\\D-HUB\\Excersices\\IBM Excersices files\\Excersice 6\\Discovery-lab\\rental_reviews_easy_ingest_handpicked\\airbnb_review451.json\n",
      "D:\\Study\\AI\\D-HUB\\Excersices\\IBM Excersices files\\Excersice 6\\Discovery-lab\\rental_reviews_easy_ingest_handpicked\\airbnb_review498.json\n",
      "D:\\Study\\AI\\D-HUB\\Excersices\\IBM Excersices files\\Excersice 6\\Discovery-lab\\rental_reviews_easy_ingest_handpicked\\airbnb_review50.json\n",
      "D:\\Study\\AI\\D-HUB\\Excersices\\IBM Excersices files\\Excersice 6\\Discovery-lab\\rental_reviews_easy_ingest_handpicked\\airbnb_review529.json\n",
      "D:\\Study\\AI\\D-HUB\\Excersices\\IBM Excersices files\\Excersice 6\\Discovery-lab\\rental_reviews_easy_ingest_handpicked\\airbnb_review536.json\n",
      "D:\\Study\\AI\\D-HUB\\Excersices\\IBM Excersices files\\Excersice 6\\Discovery-lab\\rental_reviews_easy_ingest_handpicked\\airbnb_review584.json\n",
      "D:\\Study\\AI\\D-HUB\\Excersices\\IBM Excersices files\\Excersice 6\\Discovery-lab\\rental_reviews_easy_ingest_handpicked\\airbnb_review610.json\n",
      "D:\\Study\\AI\\D-HUB\\Excersices\\IBM Excersices files\\Excersice 6\\Discovery-lab\\rental_reviews_easy_ingest_handpicked\\airbnb_review612.json\n",
      "D:\\Study\\AI\\D-HUB\\Excersices\\IBM Excersices files\\Excersice 6\\Discovery-lab\\rental_reviews_easy_ingest_handpicked\\airbnb_review663.json\n",
      "D:\\Study\\AI\\D-HUB\\Excersices\\IBM Excersices files\\Excersice 6\\Discovery-lab\\rental_reviews_easy_ingest_handpicked\\airbnb_review666.json\n",
      "D:\\Study\\AI\\D-HUB\\Excersices\\IBM Excersices files\\Excersice 6\\Discovery-lab\\rental_reviews_easy_ingest_handpicked\\airbnb_review677.json\n",
      "D:\\Study\\AI\\D-HUB\\Excersices\\IBM Excersices files\\Excersice 6\\Discovery-lab\\rental_reviews_easy_ingest_handpicked\\airbnb_review679.json\n",
      "D:\\Study\\AI\\D-HUB\\Excersices\\IBM Excersices files\\Excersice 6\\Discovery-lab\\rental_reviews_easy_ingest_handpicked\\airbnb_review683.json\n",
      "D:\\Study\\AI\\D-HUB\\Excersices\\IBM Excersices files\\Excersice 6\\Discovery-lab\\rental_reviews_easy_ingest_handpicked\\airbnb_review69.json\n",
      "D:\\Study\\AI\\D-HUB\\Excersices\\IBM Excersices files\\Excersice 6\\Discovery-lab\\rental_reviews_easy_ingest_handpicked\\airbnb_review694.json\n",
      "D:\\Study\\AI\\D-HUB\\Excersices\\IBM Excersices files\\Excersice 6\\Discovery-lab\\rental_reviews_easy_ingest_handpicked\\airbnb_review7.json\n",
      "D:\\Study\\AI\\D-HUB\\Excersices\\IBM Excersices files\\Excersice 6\\Discovery-lab\\rental_reviews_easy_ingest_handpicked\\airbnb_review700.json\n",
      "D:\\Study\\AI\\D-HUB\\Excersices\\IBM Excersices files\\Excersice 6\\Discovery-lab\\rental_reviews_easy_ingest_handpicked\\airbnb_review711.json\n",
      "D:\\Study\\AI\\D-HUB\\Excersices\\IBM Excersices files\\Excersice 6\\Discovery-lab\\rental_reviews_easy_ingest_handpicked\\airbnb_review713.json\n",
      "D:\\Study\\AI\\D-HUB\\Excersices\\IBM Excersices files\\Excersice 6\\Discovery-lab\\rental_reviews_easy_ingest_handpicked\\airbnb_review729.json\n",
      "D:\\Study\\AI\\D-HUB\\Excersices\\IBM Excersices files\\Excersice 6\\Discovery-lab\\rental_reviews_easy_ingest_handpicked\\airbnb_review743.json\n",
      "D:\\Study\\AI\\D-HUB\\Excersices\\IBM Excersices files\\Excersice 6\\Discovery-lab\\rental_reviews_easy_ingest_handpicked\\airbnb_review744.json\n",
      "D:\\Study\\AI\\D-HUB\\Excersices\\IBM Excersices files\\Excersice 6\\Discovery-lab\\rental_reviews_easy_ingest_handpicked\\airbnb_review748.json\n",
      "D:\\Study\\AI\\D-HUB\\Excersices\\IBM Excersices files\\Excersice 6\\Discovery-lab\\rental_reviews_easy_ingest_handpicked\\airbnb_review755.json\n",
      "D:\\Study\\AI\\D-HUB\\Excersices\\IBM Excersices files\\Excersice 6\\Discovery-lab\\rental_reviews_easy_ingest_handpicked\\airbnb_review760.json\n",
      "D:\\Study\\AI\\D-HUB\\Excersices\\IBM Excersices files\\Excersice 6\\Discovery-lab\\rental_reviews_easy_ingest_handpicked\\airbnb_review769.json\n",
      "D:\\Study\\AI\\D-HUB\\Excersices\\IBM Excersices files\\Excersice 6\\Discovery-lab\\rental_reviews_easy_ingest_handpicked\\airbnb_review773.json\n",
      "D:\\Study\\AI\\D-HUB\\Excersices\\IBM Excersices files\\Excersice 6\\Discovery-lab\\rental_reviews_easy_ingest_handpicked\\airbnb_review774.json\n",
      "D:\\Study\\AI\\D-HUB\\Excersices\\IBM Excersices files\\Excersice 6\\Discovery-lab\\rental_reviews_easy_ingest_handpicked\\airbnb_review778.json\n",
      "D:\\Study\\AI\\D-HUB\\Excersices\\IBM Excersices files\\Excersice 6\\Discovery-lab\\rental_reviews_easy_ingest_handpicked\\airbnb_review79.json\n",
      "D:\\Study\\AI\\D-HUB\\Excersices\\IBM Excersices files\\Excersice 6\\Discovery-lab\\rental_reviews_easy_ingest_handpicked\\airbnb_review798.json\n",
      "D:\\Study\\AI\\D-HUB\\Excersices\\IBM Excersices files\\Excersice 6\\Discovery-lab\\rental_reviews_easy_ingest_handpicked\\airbnb_review799.json\n",
      "D:\\Study\\AI\\D-HUB\\Excersices\\IBM Excersices files\\Excersice 6\\Discovery-lab\\rental_reviews_easy_ingest_handpicked\\airbnb_review80.json\n",
      "D:\\Study\\AI\\D-HUB\\Excersices\\IBM Excersices files\\Excersice 6\\Discovery-lab\\rental_reviews_easy_ingest_handpicked\\airbnb_review802.json\n",
      "D:\\Study\\AI\\D-HUB\\Excersices\\IBM Excersices files\\Excersice 6\\Discovery-lab\\rental_reviews_easy_ingest_handpicked\\airbnb_review809.json\n",
      "D:\\Study\\AI\\D-HUB\\Excersices\\IBM Excersices files\\Excersice 6\\Discovery-lab\\rental_reviews_easy_ingest_handpicked\\airbnb_review820.json\n",
      "D:\\Study\\AI\\D-HUB\\Excersices\\IBM Excersices files\\Excersice 6\\Discovery-lab\\rental_reviews_easy_ingest_handpicked\\airbnb_review83.json\n",
      "D:\\Study\\AI\\D-HUB\\Excersices\\IBM Excersices files\\Excersice 6\\Discovery-lab\\rental_reviews_easy_ingest_handpicked\\airbnb_review84.json\n",
      "D:\\Study\\AI\\D-HUB\\Excersices\\IBM Excersices files\\Excersice 6\\Discovery-lab\\rental_reviews_easy_ingest_handpicked\\airbnb_review847.json\n",
      "D:\\Study\\AI\\D-HUB\\Excersices\\IBM Excersices files\\Excersice 6\\Discovery-lab\\rental_reviews_easy_ingest_handpicked\\airbnb_review85.json\n",
      "D:\\Study\\AI\\D-HUB\\Excersices\\IBM Excersices files\\Excersice 6\\Discovery-lab\\rental_reviews_easy_ingest_handpicked\\airbnb_review868.json\n",
      "D:\\Study\\AI\\D-HUB\\Excersices\\IBM Excersices files\\Excersice 6\\Discovery-lab\\rental_reviews_easy_ingest_handpicked\\airbnb_review885.json\n",
      "D:\\Study\\AI\\D-HUB\\Excersices\\IBM Excersices files\\Excersice 6\\Discovery-lab\\rental_reviews_easy_ingest_handpicked\\airbnb_review92.json\n",
      "D:\\Study\\AI\\D-HUB\\Excersices\\IBM Excersices files\\Excersice 6\\Discovery-lab\\rental_reviews_easy_ingest_handpicked\\airbnb_review99.json\n",
      "D:\\Study\\AI\\D-HUB\\Excersices\\IBM Excersices files\\Excersice 6\\Discovery-lab\\IBM to Acquire Sanovi Technologies.doc\n",
      "D:\\Study\\AI\\D-HUB\\Excersices\\IBM Excersices files\\Excersice 6\\Discovery-lab\\rental_reviews_easy_ingest_handpicked.zip\n",
      "D:\\Study\\AI\\D-HUB\\Excersices\\IBM Excersices files\\Excersice 6\\Discovery-lab\\sample-HTML.html\n",
      "D:\\Study\\AI\\D-HUB\\Excersices\\IBM Excersices files\\Excersice 6\\Discovery-lab\\sample-PDF.pdf\n",
      "D:\\Study\\AI\\D-HUB\\Excersices\\IBM Excersices files\\Excersice 6\\Discovery-lab\\sample-Word.doc\n",
      "D:\\Study\\AI\\D-HUB\\Excersices\\IBM Excersices files\\Excersice 6\\Discovery-lab\\Slack-IBM partner to Bring Watson to Developers.pdf\n",
      "D:\\Study\\AI\\D-HUB\\Excersices\\IBM Excersices files\\Excersice 6\\Discovery-lab\\Slack-IBM partner.html\n",
      "D:\\Study\\AI\\D-HUB\\Excersices\\IBM Excersices files\\Excersice 6\\Discovery-lab\\rental_reviews_easy_ingest_handpicked\n",
      "D:\\Study\\AI\\D-HUB\\Excersices\\IBM Excersices files\\Excersice 6\\Discovery-lab.zip\n",
      "D:\\Study\\AI\\D-HUB\\Excersices\\IBM Excersices files\\Excersice 6\\Discovery-lab\n",
      "D:\\Study\\AI\\D-HUB\\Excersices\\IBM Excersices files\\Excersice 7\\dictionary-items-organization.csv\n",
      "D:\\Study\\AI\\D-HUB\\Excersices\\IBM Excersices files\\Excersice 7\\documents-new.csv\n",
      "D:\\Study\\AI\\D-HUB\\Excersices\\IBM Excersices files\\Excersice 7\\en-klue2-types.json\n",
      "D:\\Study\\AI\\D-HUB\\Excersices\\IBM Excersices files\\artificial-intelligence-analyst-master\n",
      "D:\\Study\\AI\\D-HUB\\Excersices\\IBM Excersices files\\Excersice 10\n",
      "D:\\Study\\AI\\D-HUB\\Excersices\\IBM Excersices files\\Excersice 2\n",
      "D:\\Study\\AI\\D-HUB\\Excersices\\IBM Excersices files\\Excersice 3\n",
      "D:\\Study\\AI\\D-HUB\\Excersices\\IBM Excersices files\\Excersice 4\n",
      "D:\\Study\\AI\\D-HUB\\Excersices\\IBM Excersices files\\Excersice 5\n",
      "D:\\Study\\AI\\D-HUB\\Excersices\\IBM Excersices files\\Excersice 6\n",
      "D:\\Study\\AI\\D-HUB\\Excersices\\IBM Excersices files\\Excersice 7\n",
      "D:\\Study\\AI\\D-HUB\\Excersices\\1- SVM Example.ipynb\n",
      "D:\\Study\\AI\\D-HUB\\Excersices\\11- Introduction_To_Matplotlib.ipynb\n",
      "D:\\Study\\AI\\D-HUB\\Excersices\\2- Introduction To Python.ipynb\n",
      "D:\\Study\\AI\\D-HUB\\Excersices\\3- Python Basics.ipynb\n",
      "D:\\Study\\AI\\D-HUB\\Excersices\\4- Numpy.ipynb\n",
      "D:\\Study\\AI\\D-HUB\\Excersices\\5- Tensorflow.ipynb\n",
      "D:\\Study\\AI\\D-HUB\\Excersices\\6- Neural Network.ipynb\n",
      "D:\\Study\\AI\\D-HUB\\Excersices\\7- Deep Learning.ipynb\n",
      "D:\\Study\\AI\\D-HUB\\Excersices\\8.1- Linear Regression Example.ipynb\n",
      "D:\\Study\\AI\\D-HUB\\Excersices\\8.2- linear_regression.ipynb\n",
      "D:\\Study\\AI\\D-HUB\\Excersices\\9- Boston House Price Forecast.ipynb\n",
      "D:\\Study\\AI\\D-HUB\\Excersices\\my_figure.png\n",
      "D:\\Study\\AI\\D-HUB\\Excersices\\.ipynb_checkpoints\n",
      "D:\\Study\\AI\\D-HUB\\Excersices\\10- DNN and CNN using Tensorflow\n",
      "D:\\Study\\AI\\D-HUB\\Excersices\\11 - Matplotlib Tutorial\n",
      "D:\\Study\\AI\\D-HUB\\Excersices\\Extra examples\n",
      "D:\\Study\\AI\\D-HUB\\Excersices\\IBM Excersices files\n"
     ]
    }
   ],
   "source": [
    "import os\n",
    "# os.getpid() Obtain the current process ID.\n",
    "print(\"ID of the current process:\", os.getpid())\n",
    "\n",
    "# os.getppid(): Obtain the ID of the current parent process.\n",
    "print(\" ID of the current parent process:\", os.getppid())\n",
    "\n",
    "# os.getcwd(): Obtain the current path.\n",
    "cwd = os.getcwd()\n",
    "print(\" The current path is:\",cwd)\n",
    "\n",
    "# os.chdir(path): Change the current working directory.\n",
    "#os.chdir(\"C:\\\\\")\n",
    "#print(\"The modified path is:\", os.getcwd())\n",
    "\n",
    "# os.listdir(): Return all files in the directory.\n",
    "#print(\"Files in the current directory:\", os.listdir(cwd))\n",
    "\n",
    "# os.walk(): Export all files in the current path.\n",
    "for root, dirs, files in os.walk(cwd, topdown=False):\n",
    "    for name in files:\n",
    "        print(os.path.join(root, name))\n",
    "    for name in dirs:\n",
    "        print(os.path.join(root, name))\n"
   ]
  },
  {
   "cell_type": "raw",
   "metadata": {},
   "source": [
    "Step 3\ttime"
   ]
  },
  {
   "cell_type": "code",
   "execution_count": 26,
   "metadata": {},
   "outputs": [
    {
     "name": "stdout",
     "output_type": "stream",
     "text": [
      "Timestamp: 1647457867.6602826\n",
      "The local time is: time.struct_time(tm_year=2022, tm_mon=3, tm_mday=16, tm_hour=21, tm_min=11, tm_sec=7, tm_wday=2, tm_yday=75, tm_isdst=0)\n",
      "The local time is: Wed Mar 16 21:11:07 2022\n",
      "2022-03-16 21:11:07\n"
     ]
    }
   ],
   "source": [
    "import time\n",
    "# time.time(): Obtain the current timestamp.\n",
    "time_now = time.time()\n",
    "print(\"Timestamp:\",time_now)\n",
    "\n",
    "# time.localtime(): Obtain the time tuple.\n",
    "localtime = time.localtime(time_now)\n",
    "print(\"The local time is:\", localtime)\n",
    "\n",
    "# time.asctime(): Obtain formatted time.\n",
    "localtime = time.asctime(localtime)\n",
    "print(\"The local time is:\", localtime)\n",
    "\n",
    "#time.strftime(format[, t]): Receive the time tuple and return the local time expressed in a readable string, in the format specified by the format parameter.\n",
    "print(time.strftime(\"%Y-%m-%d %H:%M:%S\", time.localtime()))\n"
   ]
  },
  {
   "cell_type": "markdown",
   "metadata": {},
   "source": [
    "1.2.15 Multiple Tasks"
   ]
  },
  {
   "cell_type": "raw",
   "metadata": {},
   "source": [
    "Step 1\tMultiple threads\n",
    "Use multiple threads to execute tasks."
   ]
  },
  {
   "cell_type": "code",
   "execution_count": 27,
   "metadata": {},
   "outputs": [
    {
     "name": "stdout",
     "output_type": "stream",
     "text": [
      "---Start---:Wed Mar 16 21:11:07 2022\n",
      "work1 is being executed...0\n",
      "work2 is being executed...0\n",
      "work1 is being executed...1work2 is being executed...1\n",
      "\n",
      "work1 is being executed...2\n",
      "work2 is being executed...2\n",
      "---End---:Wed Mar 16 21:11:12 2022\n"
     ]
    }
   ],
   "source": [
    "import threading\n",
    "from time import sleep,ctime\n",
    "def work1():\n",
    "    for i in range(3):\n",
    "        print(\"work1 is being executed...%d\"%i)\n",
    "        sleep(1)\n",
    "\n",
    "def work2():\n",
    "    for i in range(3):\n",
    "        print(\"work2 is being executed...%d\"%i)\n",
    "        sleep(1)\n",
    "\n",
    "if __name__ == '__main__':\n",
    "    print('---Start---:%s'%ctime())\n",
    "\n",
    "    t1 = threading.Thread(target=work1)# Thread 1\n",
    "    t2 = threading.Thread(target=work2)# Thread 2\n",
    "\t\t# Start the thread.\n",
    "    t1.start()\n",
    "    t2.start()\n",
    "\n",
    "    sleep(5)\n",
    "print('---End---:%s' %ctime())\n"
   ]
  },
  {
   "cell_type": "code",
   "execution_count": 28,
   "metadata": {},
   "outputs": [
    {
     "name": "stdout",
     "output_type": "stream",
     "text": [
      "---test1---g_num=1916334---test2---g_num=2000000\n",
      "\n",
      "The final result after operations are performed on the same global variable by two threads:2000000\n"
     ]
    }
   ],
   "source": [
    "import threading\n",
    "import time\n",
    "g_num = 0\n",
    "def test1(num):\n",
    "    global g_num\t# Use the global variable g_num.\n",
    "    for i in range(num):\n",
    "        mutex.acquire() # Lock\n",
    "        g_num += 1\n",
    "        mutex.release() # Unlock\n",
    "    print(\"---test1---g_num=%d\"%g_num)\n",
    "\n",
    "def test2(num):\n",
    "    global g_num\n",
    "    for i in range(num):\n",
    "        mutex.acquire() # Lock\n",
    "        g_num += 1\n",
    "        mutex.release() # Unlock\n",
    "\n",
    "    print(\"---test2---g_num=%d\"%g_num)\n",
    "\n",
    "# Create a mutual exclusion lock.\n",
    "# By default, the global variable is not locked. You can delete the lock and view the resource contention result.\n",
    "mutex = threading.Lock()\n",
    "\n",
    "# Create two threads and add 1000000 times for g_num.\n",
    "p1 = threading.Thread(target=test1, args=(1000000,))\n",
    "p1.start()\n",
    "\n",
    "p2 = threading.Thread(target=test2, args=(1000000,))\n",
    "p2.start()\n",
    "\n",
    "# Wait for the calculation to be complete.\n",
    "time.sleep(5)\n",
    "\n",
    "print(\"The final result after operations are performed on the same global variable by two threads:%s\" % g_num)\n"
   ]
  },
  {
   "cell_type": "markdown",
   "metadata": {},
   "source": [
    "1.2.16 Regular Expressions"
   ]
  },
  {
   "cell_type": "code",
   "execution_count": 29,
   "metadata": {},
   "outputs": [
    {
     "name": "stdout",
     "output_type": "stream",
     "text": [
      "<re.Match object; span=(0, 3), match='www'>\n",
      "None\n"
     ]
    }
   ],
   "source": [
    "import re\n",
    "print(re.match('www', 'www.huawei.com')) # Match at the start position.\n",
    "print(re.match('com', 'www.huawei.com')) # Not match at the start position.\n"
   ]
  },
  {
   "cell_type": "code",
   "execution_count": 30,
   "metadata": {},
   "outputs": [
    {
     "name": "stdout",
     "output_type": "stream",
     "text": [
      "searchObj.group() :  Cats are smarter \n",
      "searchObj.group(1) :  Cats\n",
      "searchObj.group(2) :  \n"
     ]
    }
   ],
   "source": [
    "line = \"Cats are smarter than dogs\"\n",
    "searchObj = re.search( r'(.*) are (.*?) (.*?)', line)\n",
    "if searchObj:\n",
    "    print(\"searchObj.group() : \", searchObj.group())\n",
    "    print(\"searchObj.group(1) : \", searchObj.group(1))\n",
    "    print(\"searchObj.group(2) : \", searchObj.group(3))\n",
    "else:\n",
    "    print(\"Nothing found!!\" )\n"
   ]
  },
  {
   "cell_type": "code",
   "execution_count": 31,
   "metadata": {},
   "outputs": [
    {
     "name": "stdout",
     "output_type": "stream",
     "text": [
      "The phone number is:  010-065-769-70 \n",
      "The phone number is:  01006576970\n"
     ]
    }
   ],
   "source": [
    "\n",
    "phone = \"010-065-769-70 # This is a phone number.\"\n",
    "# Delete the Python comment in the character string. \n",
    "num = re.sub(r'#.*$', \"\", phone)\n",
    "print(\"The phone number is: \", num)\n",
    "# Delete the hyphens from the phone number. \n",
    "num = re.sub(r'\\D', \"\", phone)\n",
    "print(\"The phone number is: \", num)\n"
   ]
  },
  {
   "cell_type": "code",
   "execution_count": 32,
   "metadata": {},
   "outputs": [
    {
     "name": "stdout",
     "output_type": "stream",
     "text": [
      "None\n",
      "<re.Match object; span=(3, 5), match='12'>\n",
      "12\n"
     ]
    }
   ],
   "source": [
    "\n",
    "pattern = re.compile(r'\\d+')                    # At least one digit is matched.\n",
    "n = pattern.match ('one12twothree34four') # The information is not found from the header.\n",
    "print(n)\n",
    "\n",
    "m = pattern.search ('one12twothree34four') # Match from the position of 'e'. No match is found.\n",
    "print(m)\n",
    "print(m.group())"
   ]
  },
  {
   "cell_type": "code",
   "execution_count": 33,
   "metadata": {},
   "outputs": [
    {
     "name": "stdout",
     "output_type": "stream",
     "text": [
      "['www', 'IBM', 'com']\n"
     ]
    }
   ],
   "source": [
    "s = re.split('\\W+', 'www.IBM.com')\n",
    "print(s)\n"
   ]
  },
  {
   "cell_type": "code",
   "execution_count": null,
   "metadata": {},
   "outputs": [],
   "source": []
  },
  {
   "cell_type": "code",
   "execution_count": null,
   "metadata": {},
   "outputs": [],
   "source": []
  },
  {
   "cell_type": "code",
   "execution_count": null,
   "metadata": {},
   "outputs": [],
   "source": []
  },
  {
   "cell_type": "code",
   "execution_count": null,
   "metadata": {},
   "outputs": [],
   "source": []
  }
 ],
 "metadata": {
  "kernelspec": {
   "display_name": "Python 3 (ipykernel)",
   "language": "python",
   "name": "python3"
  },
  "language_info": {
   "codemirror_mode": {
    "name": "ipython",
    "version": 3
   },
   "file_extension": ".py",
   "mimetype": "text/x-python",
   "name": "python",
   "nbconvert_exporter": "python",
   "pygments_lexer": "ipython3",
   "version": "3.9.7"
  }
 },
 "nbformat": 4,
 "nbformat_minor": 4
}
